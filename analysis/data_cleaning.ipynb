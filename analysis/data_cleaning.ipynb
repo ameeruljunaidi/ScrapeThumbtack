{
 "cells": [
  {
   "cell_type": "code",
   "execution_count": 1,
   "metadata": {},
   "outputs": [],
   "source": [
    "import os\n",
    "import glob\n",
    "import pandas as pd\n",
    "\n",
    "pd.options.display.float_format = '{:,.2f}'.format"
   ]
  },
  {
   "cell_type": "code",
   "execution_count": 2,
   "metadata": {},
   "outputs": [
    {
     "data": {
      "text/html": [
       "<div>\n",
       "<style scoped>\n",
       "    .dataframe tbody tr th:only-of-type {\n",
       "        vertical-align: middle;\n",
       "    }\n",
       "\n",
       "    .dataframe tbody tr th {\n",
       "        vertical-align: top;\n",
       "    }\n",
       "\n",
       "    .dataframe thead th {\n",
       "        text-align: right;\n",
       "    }\n",
       "</style>\n",
       "<table border=\"1\" class=\"dataframe\">\n",
       "  <thead>\n",
       "    <tr style=\"text-align: right;\">\n",
       "      <th></th>\n",
       "      <th>Service</th>\n",
       "      <th>Type</th>\n",
       "      <th>Rating</th>\n",
       "      <th>Hires</th>\n",
       "      <th>Price</th>\n",
       "      <th>Zip Code</th>\n",
       "    </tr>\n",
       "  </thead>\n",
       "  <tbody>\n",
       "    <tr>\n",
       "      <th>0</th>\n",
       "      <td>Katie Beth Nutrition, Registered Dietitian</td>\n",
       "      <td>12</td>\n",
       "      <td>5.00</td>\n",
       "      <td>67.00</td>\n",
       "      <td>495.00</td>\n",
       "      <td>36104</td>\n",
       "    </tr>\n",
       "    <tr>\n",
       "      <th>1</th>\n",
       "      <td>Cassi Nunes</td>\n",
       "      <td>12</td>\n",
       "      <td>5.00</td>\n",
       "      <td>164.00</td>\n",
       "      <td>249.00</td>\n",
       "      <td>36104</td>\n",
       "    </tr>\n",
       "    <tr>\n",
       "      <th>2</th>\n",
       "      <td>Beau Gardner</td>\n",
       "      <td>12</td>\n",
       "      <td>5.00</td>\n",
       "      <td>142.00</td>\n",
       "      <td>100.00</td>\n",
       "      <td>36104</td>\n",
       "    </tr>\n",
       "    <tr>\n",
       "      <th>3</th>\n",
       "      <td>Nolan King's Nutrition and Training</td>\n",
       "      <td>12</td>\n",
       "      <td>5.00</td>\n",
       "      <td>744.00</td>\n",
       "      <td>199.00</td>\n",
       "      <td>36104</td>\n",
       "    </tr>\n",
       "    <tr>\n",
       "      <th>4</th>\n",
       "      <td>Weightloss For Busy Proffessionals</td>\n",
       "      <td>12</td>\n",
       "      <td>5.00</td>\n",
       "      <td>NaN</td>\n",
       "      <td>NaN</td>\n",
       "      <td>36104</td>\n",
       "    </tr>\n",
       "  </tbody>\n",
       "</table>\n",
       "</div>"
      ],
      "text/plain": [
       "                                      Service  Type  Rating  Hires  Price  \\\n",
       "0  Katie Beth Nutrition, Registered Dietitian    12    5.00  67.00 495.00   \n",
       "1                                 Cassi Nunes    12    5.00 164.00 249.00   \n",
       "2                                Beau Gardner    12    5.00 142.00 100.00   \n",
       "3         Nolan King's Nutrition and Training    12    5.00 744.00 199.00   \n",
       "4          Weightloss For Busy Proffessionals    12    5.00    NaN    NaN   \n",
       "\n",
       "   Zip Code  \n",
       "0     36104  \n",
       "1     36104  \n",
       "2     36104  \n",
       "3     36104  \n",
       "4     36104  "
      ]
     },
     "execution_count": 2,
     "metadata": {},
     "output_type": "execute_result"
    }
   ],
   "source": [
    "# Combine all the CSV files\n",
    "path = r'../data'\n",
    "all_csv = glob.glob(path + \"/*.csv\")\n",
    "\n",
    "temp = []\n",
    "for csv in all_csv:\n",
    "    df = pd.read_csv(csv, index_col=0, header=0, thousands=',')\n",
    "    temp.append(df)\n",
    "\n",
    "df = pd.concat(temp, axis=0, ignore_index=True)\n",
    "df.head()"
   ]
  },
  {
   "cell_type": "code",
   "execution_count": 3,
   "metadata": {},
   "outputs": [
    {
     "data": {
      "text/plain": [
       "(32174, 6)"
      ]
     },
     "execution_count": 3,
     "metadata": {},
     "output_type": "execute_result"
    }
   ],
   "source": [
    "df.shape"
   ]
  },
  {
   "cell_type": "code",
   "execution_count": 4,
   "metadata": {},
   "outputs": [
    {
     "data": {
      "text/plain": [
       "Service      object\n",
       "Type          int64\n",
       "Rating      float64\n",
       "Hires       float64\n",
       "Price        object\n",
       "Zip Code      int64\n",
       "dtype: object"
      ]
     },
     "execution_count": 4,
     "metadata": {},
     "output_type": "execute_result"
    }
   ],
   "source": [
    "# Check and fix dtype\n",
    "df.dtypes"
   ]
  },
  {
   "cell_type": "code",
   "execution_count": 5,
   "metadata": {
    "scrolled": false
   },
   "outputs": [
    {
     "data": {
      "text/plain": [
       "array([495.0, 249.0, 100.0, 199.0, nan, 170.0, 57.0, 125.0, 99.0, 35.0,\n",
       "       175.0, 75.0, 80.0, 300.0, 200.0, 40.0, 85.0, 79.0, 120.0],\n",
       "      dtype=object)"
      ]
     },
     "execution_count": 5,
     "metadata": {},
     "output_type": "execute_result"
    }
   ],
   "source": [
    "# See some prices values\n",
    "df['Price'].unique()[:19]\n",
    "\n",
    "# Need to fix that hour thing"
   ]
  },
  {
   "cell_type": "code",
   "execution_count": 6,
   "metadata": {},
   "outputs": [
    {
     "data": {
      "text/plain": [
       "['on-site', 'session', 'logo', 'hour', 'walk', 'cat', 'person', 'visit']"
      ]
     },
     "execution_count": 6,
     "metadata": {},
     "output_type": "execute_result"
    }
   ],
   "source": [
    "# See different types of payment\n",
    "df['Price'] = df['Price'].astype(str)\n",
    "\n",
    "tempList = []\n",
    "checkUnique = []\n",
    "for i in df[\"Price\"]:\n",
    "    x = i.split('/')\n",
    "    tempList.append(x)\n",
    "    \n",
    "for i in tempList:\n",
    "    try:\n",
    "        x = i[1]\n",
    "        checkUnique.append(x)\n",
    "    except:\n",
    "        pass\n",
    "\n",
    "checkUnique = list(dict.fromkeys(checkUnique))\n",
    "checkUnique"
   ]
  },
  {
   "cell_type": "code",
   "execution_count": 7,
   "metadata": {},
   "outputs": [],
   "source": [
    "# Removed the hour into another column\n",
    "tempPrice = []\n",
    "tempPriceType = []\n",
    "for i in df['Price']:\n",
    "    x = i.split('/')\n",
    "    tempPrice.append(x[0])\n",
    "    try:\n",
    "        y = x[1]\n",
    "    except:\n",
    "        y = \"\"\n",
    "    tempPriceType.append(y)\n",
    "\n",
    "# Add it to dataframe and check\n",
    "df['Price'] = tempPrice\n",
    "df['Price Type'] = tempPriceType\n",
    "df['Price Type'] = df['Price Type'].astype(str)\n",
    "\n",
    "# Convert price column to float\n",
    "df['Price'] = df['Price'].str.replace(\",\",\"\").astype(float)"
   ]
  },
  {
   "cell_type": "code",
   "execution_count": 8,
   "metadata": {},
   "outputs": [
    {
     "data": {
      "text/plain": [
       "Service        object\n",
       "Type            int64\n",
       "Rating        float64\n",
       "Hires         float64\n",
       "Price         float64\n",
       "Zip Code        int64\n",
       "Price Type     object\n",
       "dtype: object"
      ]
     },
     "execution_count": 8,
     "metadata": {},
     "output_type": "execute_result"
    }
   ],
   "source": [
    "# Double check data types\n",
    "df.dtypes"
   ]
  },
  {
   "cell_type": "code",
   "execution_count": 9,
   "metadata": {},
   "outputs": [],
   "source": [
    "# Add the service type from database\n",
    "serviceDf = pd.read_csv('../src/all_services.csv')\n",
    "\n",
    "dfMerge = df.rename(columns={\"Type\": \"ID\"})\n",
    "dfMerge = pd.merge(dfMerge, serviceDf, left_on='ID', right_on='ID',\n",
    "                   how='left').drop('ID', axis=1)\n",
    "df = dfMerge"
   ]
  },
  {
   "cell_type": "code",
   "execution_count": 10,
   "metadata": {},
   "outputs": [
    {
     "data": {
      "text/html": [
       "<div>\n",
       "<style scoped>\n",
       "    .dataframe tbody tr th:only-of-type {\n",
       "        vertical-align: middle;\n",
       "    }\n",
       "\n",
       "    .dataframe tbody tr th {\n",
       "        vertical-align: top;\n",
       "    }\n",
       "\n",
       "    .dataframe thead th {\n",
       "        text-align: right;\n",
       "    }\n",
       "</style>\n",
       "<table border=\"1\" class=\"dataframe\">\n",
       "  <thead>\n",
       "    <tr style=\"text-align: right;\">\n",
       "      <th></th>\n",
       "      <th>Service</th>\n",
       "      <th>Rating</th>\n",
       "      <th>Hires</th>\n",
       "      <th>Price</th>\n",
       "      <th>Zip Code</th>\n",
       "      <th>Price Type</th>\n",
       "      <th>Services</th>\n",
       "      <th>Type</th>\n",
       "      <th>Segments</th>\n",
       "    </tr>\n",
       "  </thead>\n",
       "  <tbody>\n",
       "    <tr>\n",
       "      <th>20130</th>\n",
       "      <td>DJ Babyface</td>\n",
       "      <td>5.00</td>\n",
       "      <td>NaN</td>\n",
       "      <td>NaN</td>\n",
       "      <td>11021</td>\n",
       "      <td></td>\n",
       "      <td>DJ</td>\n",
       "      <td>Main</td>\n",
       "      <td>Events</td>\n",
       "    </tr>\n",
       "  </tbody>\n",
       "</table>\n",
       "</div>"
      ],
      "text/plain": [
       "           Service  Rating  Hires  Price  Zip Code Price Type Services  Type  \\\n",
       "20130  DJ Babyface    5.00    NaN    NaN     11021                  DJ  Main   \n",
       "\n",
       "      Segments  \n",
       "20130   Events  "
      ]
     },
     "execution_count": 10,
     "metadata": {},
     "output_type": "execute_result"
    }
   ],
   "source": [
    "df.sample()"
   ]
  },
  {
   "cell_type": "code",
   "execution_count": 11,
   "metadata": {},
   "outputs": [],
   "source": [
    "zipCodes = pd.read_csv('../src/us_states.csv')\n",
    "\n",
    "dfMerge = df\n",
    "dfMerge = pd.merge(dfMerge, zipCodes, left_on='Zip Code', right_on='Representative ZIP Code',\n",
    "                   how='left').drop('Representative ZIP Code', axis=1)\n",
    "\n",
    "df = dfMerge"
   ]
  },
  {
   "cell_type": "code",
   "execution_count": 12,
   "metadata": {},
   "outputs": [
    {
     "data": {
      "text/plain": [
       "(32174, 12)"
      ]
     },
     "execution_count": 12,
     "metadata": {},
     "output_type": "execute_result"
    }
   ],
   "source": [
    "# See shape\n",
    "df.shape"
   ]
  },
  {
   "cell_type": "code",
   "execution_count": 13,
   "metadata": {},
   "outputs": [
    {
     "data": {
      "text/html": [
       "<div>\n",
       "<style scoped>\n",
       "    .dataframe tbody tr th:only-of-type {\n",
       "        vertical-align: middle;\n",
       "    }\n",
       "\n",
       "    .dataframe tbody tr th {\n",
       "        vertical-align: top;\n",
       "    }\n",
       "\n",
       "    .dataframe thead th {\n",
       "        text-align: right;\n",
       "    }\n",
       "</style>\n",
       "<table border=\"1\" class=\"dataframe\">\n",
       "  <thead>\n",
       "    <tr style=\"text-align: right;\">\n",
       "      <th></th>\n",
       "      <th>Service</th>\n",
       "      <th>Rating</th>\n",
       "      <th>Hires</th>\n",
       "      <th>Price</th>\n",
       "      <th>Zip Code</th>\n",
       "      <th>Price Type</th>\n",
       "      <th>Services</th>\n",
       "      <th>Type</th>\n",
       "      <th>Segments</th>\n",
       "      <th>Capital City</th>\n",
       "      <th>State</th>\n",
       "      <th>Abbreviation</th>\n",
       "    </tr>\n",
       "  </thead>\n",
       "  <tbody>\n",
       "    <tr>\n",
       "      <th>11030</th>\n",
       "      <td>Jnana Massage Therapy</td>\n",
       "      <td>5.00</td>\n",
       "      <td>NaN</td>\n",
       "      <td>80.00</td>\n",
       "      <td>85001</td>\n",
       "      <td></td>\n",
       "      <td>Massage Therapy</td>\n",
       "      <td>Main</td>\n",
       "      <td>Wellness</td>\n",
       "      <td>Phoenix</td>\n",
       "      <td>Arizona</td>\n",
       "      <td>AZ</td>\n",
       "    </tr>\n",
       "    <tr>\n",
       "      <th>27731</th>\n",
       "      <td>Wealth and taste</td>\n",
       "      <td>NaN</td>\n",
       "      <td>NaN</td>\n",
       "      <td>NaN</td>\n",
       "      <td>90013</td>\n",
       "      <td></td>\n",
       "      <td>Wedding and Event Catering</td>\n",
       "      <td>Main</td>\n",
       "      <td>Events</td>\n",
       "      <td>Los Angeles</td>\n",
       "      <td>California</td>\n",
       "      <td>CA</td>\n",
       "    </tr>\n",
       "  </tbody>\n",
       "</table>\n",
       "</div>"
      ],
      "text/plain": [
       "                     Service  Rating  Hires  Price  Zip Code Price Type  \\\n",
       "11030  Jnana Massage Therapy    5.00    NaN  80.00     85001              \n",
       "27731       Wealth and taste     NaN    NaN    NaN     90013              \n",
       "\n",
       "                         Services  Type  Segments Capital City       State  \\\n",
       "11030             Massage Therapy  Main  Wellness      Phoenix     Arizona   \n",
       "27731  Wedding and Event Catering  Main    Events  Los Angeles  California   \n",
       "\n",
       "      Abbreviation  \n",
       "11030           AZ  \n",
       "27731           CA  "
      ]
     },
     "execution_count": 13,
     "metadata": {},
     "output_type": "execute_result"
    }
   ],
   "source": [
    "# Check for duplicates\n",
    "dfDuplicate = df[df.duplicated()]\n",
    "dfDuplicate\n",
    "\n",
    "# Deal with duplicates accordingly if there are any"
   ]
  },
  {
   "cell_type": "code",
   "execution_count": 14,
   "metadata": {},
   "outputs": [
    {
     "data": {
      "text/html": [
       "<div>\n",
       "<style scoped>\n",
       "    .dataframe tbody tr th:only-of-type {\n",
       "        vertical-align: middle;\n",
       "    }\n",
       "\n",
       "    .dataframe tbody tr th {\n",
       "        vertical-align: top;\n",
       "    }\n",
       "\n",
       "    .dataframe thead th {\n",
       "        text-align: right;\n",
       "    }\n",
       "</style>\n",
       "<table border=\"1\" class=\"dataframe\">\n",
       "  <thead>\n",
       "    <tr style=\"text-align: right;\">\n",
       "      <th></th>\n",
       "      <th>Rating</th>\n",
       "      <th>Hires</th>\n",
       "      <th>Price</th>\n",
       "      <th>Zip Code</th>\n",
       "    </tr>\n",
       "  </thead>\n",
       "  <tbody>\n",
       "    <tr>\n",
       "      <th>count</th>\n",
       "      <td>30,654.00</td>\n",
       "      <td>23,271.00</td>\n",
       "      <td>23,383.00</td>\n",
       "      <td>32,174.00</td>\n",
       "    </tr>\n",
       "    <tr>\n",
       "      <th>mean</th>\n",
       "      <td>4.93</td>\n",
       "      <td>66.80</td>\n",
       "      <td>146.74</td>\n",
       "      <td>49,261.12</td>\n",
       "    </tr>\n",
       "    <tr>\n",
       "      <th>std</th>\n",
       "      <td>0.24</td>\n",
       "      <td>138.94</td>\n",
       "      <td>143.85</td>\n",
       "      <td>31,817.80</td>\n",
       "    </tr>\n",
       "    <tr>\n",
       "      <th>min</th>\n",
       "      <td>1.00</td>\n",
       "      <td>2.00</td>\n",
       "      <td>1.00</td>\n",
       "      <td>2,201.00</td>\n",
       "    </tr>\n",
       "    <tr>\n",
       "      <th>25%</th>\n",
       "      <td>5.00</td>\n",
       "      <td>8.00</td>\n",
       "      <td>65.00</td>\n",
       "      <td>20,001.00</td>\n",
       "    </tr>\n",
       "    <tr>\n",
       "      <th>50%</th>\n",
       "      <td>5.00</td>\n",
       "      <td>22.00</td>\n",
       "      <td>100.00</td>\n",
       "      <td>48,226.00</td>\n",
       "    </tr>\n",
       "    <tr>\n",
       "      <th>75%</th>\n",
       "      <td>5.00</td>\n",
       "      <td>59.00</td>\n",
       "      <td>185.00</td>\n",
       "      <td>78,701.00</td>\n",
       "    </tr>\n",
       "    <tr>\n",
       "      <th>max</th>\n",
       "      <td>5.00</td>\n",
       "      <td>2,041.00</td>\n",
       "      <td>6,000.00</td>\n",
       "      <td>99,801.00</td>\n",
       "    </tr>\n",
       "  </tbody>\n",
       "</table>\n",
       "</div>"
      ],
      "text/plain": [
       "         Rating     Hires     Price  Zip Code\n",
       "count 30,654.00 23,271.00 23,383.00 32,174.00\n",
       "mean       4.93     66.80    146.74 49,261.12\n",
       "std        0.24    138.94    143.85 31,817.80\n",
       "min        1.00      2.00      1.00  2,201.00\n",
       "25%        5.00      8.00     65.00 20,001.00\n",
       "50%        5.00     22.00    100.00 48,226.00\n",
       "75%        5.00     59.00    185.00 78,701.00\n",
       "max        5.00  2,041.00  6,000.00 99,801.00"
      ]
     },
     "execution_count": 14,
     "metadata": {},
     "output_type": "execute_result"
    }
   ],
   "source": [
    "# See overview of data\n",
    "df.describe()"
   ]
  },
  {
   "cell_type": "code",
   "execution_count": 15,
   "metadata": {},
   "outputs": [],
   "source": [
    "# Get implied revenue\n",
    "df[\"Implied Revenue\"] = df[\"Price\"] * df[\"Hires\"]"
   ]
  },
  {
   "cell_type": "code",
   "execution_count": 16,
   "metadata": {},
   "outputs": [
    {
     "name": "stdout",
     "output_type": "stream",
     "text": [
      "['Service' 'Rating' 'Hires' 'Price' 'Zip Code' 'Price Type' 'Services'\n",
      " 'Type' 'Segments' 'Capital City' 'State' 'Abbreviation' 'Implied Revenue']\n"
     ]
    }
   ],
   "source": [
    "# See columns\n",
    "print(df.columns.values)"
   ]
  },
  {
   "cell_type": "code",
   "execution_count": 17,
   "metadata": {},
   "outputs": [],
   "source": [
    "# Rearrange columsn\n",
    "df = df[[\n",
    "    'Segments', 'Services', 'Type', 'Service', 'Hires', 'Price', 'Price Type',\n",
    "    'Rating', 'Zip Code', 'Capital City', 'State', 'Abbreviation',\n",
    "    'Implied Revenue'\n",
    "]]"
   ]
  },
  {
   "cell_type": "code",
   "execution_count": 18,
   "metadata": {},
   "outputs": [],
   "source": [
    "df.to_csv(\"../output/all_services.csv\")"
   ]
  }
 ],
 "metadata": {
  "interpreter": {
   "hash": "c813680251bd8d0b07ad960ec3c16e45dc93400328438a85d36d0d2a96ed0efa"
  },
  "kernelspec": {
   "display_name": "Python 3 (ipykernel)",
   "language": "python",
   "name": "python3"
  },
  "language_info": {
   "codemirror_mode": {
    "name": "ipython",
    "version": 3
   },
   "file_extension": ".py",
   "mimetype": "text/x-python",
   "name": "python",
   "nbconvert_exporter": "python",
   "pygments_lexer": "ipython3",
   "version": "3.9.5"
  }
 },
 "nbformat": 4,
 "nbformat_minor": 2
}
