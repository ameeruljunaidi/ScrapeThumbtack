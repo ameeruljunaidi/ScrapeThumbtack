{
 "cells": [
  {
   "cell_type": "code",
   "execution_count": 1,
   "metadata": {},
   "outputs": [],
   "source": [
    "import os\n",
    "import glob\n",
    "import pandas as pd\n",
    "\n",
    "pd.options.display.float_format = '{:,.2f}'.format\n",
    "pd.set_option('mode.chained_assignment', None)"
   ]
  },
  {
   "cell_type": "code",
   "execution_count": 2,
   "metadata": {},
   "outputs": [
    {
     "data": {
      "text/html": [
       "<div>\n",
       "<style scoped>\n",
       "    .dataframe tbody tr th:only-of-type {\n",
       "        vertical-align: middle;\n",
       "    }\n",
       "\n",
       "    .dataframe tbody tr th {\n",
       "        vertical-align: top;\n",
       "    }\n",
       "\n",
       "    .dataframe thead th {\n",
       "        text-align: right;\n",
       "    }\n",
       "</style>\n",
       "<table border=\"1\" class=\"dataframe\">\n",
       "  <thead>\n",
       "    <tr style=\"text-align: right;\">\n",
       "      <th></th>\n",
       "      <th>Service</th>\n",
       "      <th>Type</th>\n",
       "      <th>Rating</th>\n",
       "      <th>Hires</th>\n",
       "      <th>Price</th>\n",
       "      <th>Zip Code</th>\n",
       "    </tr>\n",
       "  </thead>\n",
       "  <tbody>\n",
       "    <tr>\n",
       "      <th>0</th>\n",
       "      <td>Columbia Junior, Multiple Ivy Acceptances, ACT...</td>\n",
       "      <td>32</td>\n",
       "      <td>5.00</td>\n",
       "      <td>95.00</td>\n",
       "      <td>75/hour</td>\n",
       "      <td>84111</td>\n",
       "    </tr>\n",
       "    <tr>\n",
       "      <th>1</th>\n",
       "      <td>Amikka Test Prep (Ivy Grad + No Contracts)</td>\n",
       "      <td>32</td>\n",
       "      <td>5.00</td>\n",
       "      <td>335.00</td>\n",
       "      <td>60/hour</td>\n",
       "      <td>84111</td>\n",
       "    </tr>\n",
       "    <tr>\n",
       "      <th>2</th>\n",
       "      <td>Harvard Grad/15 Yrs Exp: SAT/ACT/College Admis...</td>\n",
       "      <td>32</td>\n",
       "      <td>5.00</td>\n",
       "      <td>60.00</td>\n",
       "      <td>495/hour</td>\n",
       "      <td>84111</td>\n",
       "    </tr>\n",
       "    <tr>\n",
       "      <th>3</th>\n",
       "      <td>My Education Connections, LLC</td>\n",
       "      <td>32</td>\n",
       "      <td>5.00</td>\n",
       "      <td>8.00</td>\n",
       "      <td>60/hour</td>\n",
       "      <td>84111</td>\n",
       "    </tr>\n",
       "    <tr>\n",
       "      <th>4</th>\n",
       "      <td>Authentic Tutoring Services</td>\n",
       "      <td>32</td>\n",
       "      <td>5.00</td>\n",
       "      <td>9.00</td>\n",
       "      <td>28/hour</td>\n",
       "      <td>84111</td>\n",
       "    </tr>\n",
       "  </tbody>\n",
       "</table>\n",
       "</div>"
      ],
      "text/plain": [
       "                                             Service  Type  Rating  Hires  \\\n",
       "0  Columbia Junior, Multiple Ivy Acceptances, ACT...    32    5.00  95.00   \n",
       "1         Amikka Test Prep (Ivy Grad + No Contracts)    32    5.00 335.00   \n",
       "2  Harvard Grad/15 Yrs Exp: SAT/ACT/College Admis...    32    5.00  60.00   \n",
       "3                      My Education Connections, LLC    32    5.00   8.00   \n",
       "4                        Authentic Tutoring Services    32    5.00   9.00   \n",
       "\n",
       "      Price  Zip Code  \n",
       "0   75/hour     84111  \n",
       "1   60/hour     84111  \n",
       "2  495/hour     84111  \n",
       "3   60/hour     84111  \n",
       "4   28/hour     84111  "
      ]
     },
     "execution_count": 2,
     "metadata": {},
     "output_type": "execute_result"
    }
   ],
   "source": [
    "# Combine all the CSV files\n",
    "path = r'../data'\n",
    "all_csv = glob.glob(path + \"/*.csv\")\n",
    "\n",
    "temp = []\n",
    "for csv in all_csv:\n",
    "    df = pd.read_csv(csv, index_col=0, header=0, thousands=',')\n",
    "    temp.append(df)\n",
    "\n",
    "df = pd.concat(temp, axis=0, ignore_index=True)\n",
    "df.head()"
   ]
  },
  {
   "cell_type": "code",
   "execution_count": 3,
   "metadata": {},
   "outputs": [
    {
     "data": {
      "text/plain": [
       "(62068, 6)"
      ]
     },
     "execution_count": 3,
     "metadata": {},
     "output_type": "execute_result"
    }
   ],
   "source": [
    "df.shape"
   ]
  },
  {
   "cell_type": "code",
   "execution_count": 4,
   "metadata": {},
   "outputs": [
    {
     "data": {
      "text/plain": [
       "Service      object\n",
       "Type          int64\n",
       "Rating      float64\n",
       "Hires       float64\n",
       "Price        object\n",
       "Zip Code      int64\n",
       "dtype: object"
      ]
     },
     "execution_count": 4,
     "metadata": {},
     "output_type": "execute_result"
    }
   ],
   "source": [
    "# Check and fix dtype\n",
    "df.dtypes"
   ]
  },
  {
   "cell_type": "code",
   "execution_count": 5,
   "metadata": {
    "scrolled": false
   },
   "outputs": [
    {
     "data": {
      "text/plain": [
       "array(['75/hour', '60/hour', '495/hour', '28/hour', '50/hour', '65/hour',\n",
       "       '45/hour', '125/hour', '35/hour', '40/hour', '70/hour', '39/hour',\n",
       "       '55/hour', nan, '85/service', '50/service', '150-$200', '15/hour',\n",
       "       '36/hour'], dtype=object)"
      ]
     },
     "execution_count": 5,
     "metadata": {},
     "output_type": "execute_result"
    }
   ],
   "source": [
    "# See some prices values\n",
    "df['Price'].unique()[:19]\n",
    "\n",
    "# Need to fix that hour thing"
   ]
  },
  {
   "cell_type": "code",
   "execution_count": 6,
   "metadata": {},
   "outputs": [
    {
     "data": {
      "text/plain": [
       "['hour',\n",
       " 'service',\n",
       " 'session',\n",
       " 'on-site',\n",
       " 'logo',\n",
       " 'walk',\n",
       " 'cat',\n",
       " 'person',\n",
       " 'visit']"
      ]
     },
     "execution_count": 6,
     "metadata": {},
     "output_type": "execute_result"
    }
   ],
   "source": [
    "# See different types of payment\n",
    "df['Price'] = df['Price'].astype(str)\n",
    "\n",
    "tempList = []\n",
    "checkUnique = []\n",
    "for i in df[\"Price\"]:\n",
    "    x = i.split('/')\n",
    "    tempList.append(x)\n",
    "    \n",
    "for i in tempList:\n",
    "    try:\n",
    "        x = i[1]\n",
    "        checkUnique.append(x)\n",
    "    except:\n",
    "        pass\n",
    "\n",
    "checkUnique = list(dict.fromkeys(checkUnique))\n",
    "checkUnique"
   ]
  },
  {
   "cell_type": "code",
   "execution_count": 7,
   "metadata": {},
   "outputs": [],
   "source": [
    "# Removed the hour into another column\n",
    "tempPrice = []\n",
    "tempPriceType = []\n",
    "for i in df['Price']:\n",
    "    if i.find(\"-\") < 0: \n",
    "        x = i.split('/')\n",
    "        tempPrice.append(x[0])\n",
    "        try:\n",
    "            y = x[1]\n",
    "        except:\n",
    "            y = \"\"\n",
    "    else:\n",
    "        x = i.split('/')\n",
    "        x = x[0].split('-')\n",
    "        tempPrice.append(x[0])\n",
    "        try:\n",
    "            y = x[1]\n",
    "        except:\n",
    "            y = \"\"\n",
    "    tempPriceType.append(y)\n",
    "\n",
    "# Add it to dataframe and check\n",
    "df['Price'] = tempPrice\n",
    "df['Price Type'] = tempPriceType\n",
    "df['Price Type'] = df['Price Type'].astype(str)\n",
    "\n",
    "# Convert price column to float\n",
    "df['Price'] = df['Price'].str.replace(\",\",\"\").astype(float)"
   ]
  },
  {
   "cell_type": "code",
   "execution_count": 8,
   "metadata": {},
   "outputs": [
    {
     "data": {
      "text/plain": [
       "Service        object\n",
       "Type            int64\n",
       "Rating        float64\n",
       "Hires         float64\n",
       "Price         float64\n",
       "Zip Code        int64\n",
       "Price Type     object\n",
       "dtype: object"
      ]
     },
     "execution_count": 8,
     "metadata": {},
     "output_type": "execute_result"
    }
   ],
   "source": [
    "# Double check data types\n",
    "df.dtypes"
   ]
  },
  {
   "cell_type": "code",
   "execution_count": 9,
   "metadata": {},
   "outputs": [],
   "source": [
    "# Add the service type from database\n",
    "serviceDf = pd.read_csv('../src/all_services.csv')\n",
    "\n",
    "dfMerge = df.rename(columns={\"Type\": \"ID\"})\n",
    "dfMerge = pd.merge(dfMerge, serviceDf, left_on='ID', right_on='ID',\n",
    "                   how='left').drop('ID', axis=1)\n",
    "df = dfMerge"
   ]
  },
  {
   "cell_type": "code",
   "execution_count": 10,
   "metadata": {},
   "outputs": [],
   "source": [
    "zipCodes = pd.read_csv('../src/us_states.csv')\n",
    "\n",
    "dfMerge = df\n",
    "dfMerge = pd.merge(dfMerge, zipCodes, left_on='Zip Code', right_on='Representative ZIP Code',\n",
    "                   how='left').drop('Representative ZIP Code', axis=1)\n",
    "\n",
    "df = dfMerge"
   ]
  },
  {
   "cell_type": "code",
   "execution_count": 11,
   "metadata": {
    "scrolled": true
   },
   "outputs": [
    {
     "data": {
      "text/html": [
       "<div>\n",
       "<style scoped>\n",
       "    .dataframe tbody tr th:only-of-type {\n",
       "        vertical-align: middle;\n",
       "    }\n",
       "\n",
       "    .dataframe tbody tr th {\n",
       "        vertical-align: top;\n",
       "    }\n",
       "\n",
       "    .dataframe thead th {\n",
       "        text-align: right;\n",
       "    }\n",
       "</style>\n",
       "<table border=\"1\" class=\"dataframe\">\n",
       "  <thead>\n",
       "    <tr style=\"text-align: right;\">\n",
       "      <th></th>\n",
       "      <th>Service</th>\n",
       "      <th>Rating</th>\n",
       "      <th>Hires</th>\n",
       "      <th>Price</th>\n",
       "      <th>Zip Code</th>\n",
       "      <th>Price Type</th>\n",
       "      <th>Services</th>\n",
       "      <th>Type</th>\n",
       "      <th>Segments</th>\n",
       "      <th>Capital City</th>\n",
       "      <th>State</th>\n",
       "      <th>Abbreviation</th>\n",
       "    </tr>\n",
       "  </thead>\n",
       "  <tbody>\n",
       "    <tr>\n",
       "      <th>31312</th>\n",
       "      <td>Justin Browns Music</td>\n",
       "      <td>5.00</td>\n",
       "      <td>NaN</td>\n",
       "      <td>28.00</td>\n",
       "      <td>32301</td>\n",
       "      <td></td>\n",
       "      <td>Piano Lessons</td>\n",
       "      <td>Main</td>\n",
       "      <td>Lessons</td>\n",
       "      <td>Tallahassee</td>\n",
       "      <td>Florida</td>\n",
       "      <td>FL</td>\n",
       "    </tr>\n",
       "    <tr>\n",
       "      <th>60387</th>\n",
       "      <td>World Aquatic Biomes</td>\n",
       "      <td>5.00</td>\n",
       "      <td>NaN</td>\n",
       "      <td>NaN</td>\n",
       "      <td>21202</td>\n",
       "      <td></td>\n",
       "      <td>Aquarium Services</td>\n",
       "      <td>Main</td>\n",
       "      <td>Pets</td>\n",
       "      <td>Baltimore</td>\n",
       "      <td>Maryland</td>\n",
       "      <td>MD</td>\n",
       "    </tr>\n",
       "    <tr>\n",
       "      <th>50967</th>\n",
       "      <td>Sunshine Entertainment</td>\n",
       "      <td>5.00</td>\n",
       "      <td>223.00</td>\n",
       "      <td>295.00</td>\n",
       "      <td>6103</td>\n",
       "      <td></td>\n",
       "      <td>DJ</td>\n",
       "      <td>Main</td>\n",
       "      <td>Events</td>\n",
       "      <td>Hartford</td>\n",
       "      <td>Connecticut</td>\n",
       "      <td>CT</td>\n",
       "    </tr>\n",
       "    <tr>\n",
       "      <th>35367</th>\n",
       "      <td>Prime 1 Productions, LLC</td>\n",
       "      <td>5.00</td>\n",
       "      <td>503.00</td>\n",
       "      <td>100.00</td>\n",
       "      <td>19901</td>\n",
       "      <td></td>\n",
       "      <td>DJ</td>\n",
       "      <td>Main</td>\n",
       "      <td>Events</td>\n",
       "      <td>Dover</td>\n",
       "      <td>Delaware</td>\n",
       "      <td>DE</td>\n",
       "    </tr>\n",
       "    <tr>\n",
       "      <th>37742</th>\n",
       "      <td>TutorWithTheBest</td>\n",
       "      <td>5.00</td>\n",
       "      <td>216.00</td>\n",
       "      <td>NaN</td>\n",
       "      <td>95112</td>\n",
       "      <td></td>\n",
       "      <td>Test Prep Services</td>\n",
       "      <td>Peripheral</td>\n",
       "      <td>Lessons</td>\n",
       "      <td>San Jose</td>\n",
       "      <td>California</td>\n",
       "      <td>CA</td>\n",
       "    </tr>\n",
       "  </tbody>\n",
       "</table>\n",
       "</div>"
      ],
      "text/plain": [
       "                        Service  Rating  Hires  Price  Zip Code Price Type  \\\n",
       "31312       Justin Browns Music    5.00    NaN  28.00     32301              \n",
       "60387      World Aquatic Biomes    5.00    NaN    NaN     21202              \n",
       "50967    Sunshine Entertainment    5.00 223.00 295.00      6103              \n",
       "35367  Prime 1 Productions, LLC    5.00 503.00 100.00     19901              \n",
       "37742          TutorWithTheBest    5.00 216.00    NaN     95112              \n",
       "\n",
       "                 Services        Type Segments Capital City        State  \\\n",
       "31312       Piano Lessons        Main  Lessons  Tallahassee      Florida   \n",
       "60387   Aquarium Services        Main     Pets    Baltimore     Maryland   \n",
       "50967                  DJ        Main   Events     Hartford  Connecticut   \n",
       "35367                  DJ        Main   Events        Dover     Delaware   \n",
       "37742  Test Prep Services  Peripheral  Lessons     San Jose   California   \n",
       "\n",
       "      Abbreviation  \n",
       "31312           FL  \n",
       "60387           MD  \n",
       "50967           CT  \n",
       "35367           DE  \n",
       "37742           CA  "
      ]
     },
     "execution_count": 11,
     "metadata": {},
     "output_type": "execute_result"
    }
   ],
   "source": [
    "df.sample(5)"
   ]
  },
  {
   "cell_type": "code",
   "execution_count": 12,
   "metadata": {},
   "outputs": [
    {
     "data": {
      "text/plain": [
       "(62068, 12)"
      ]
     },
     "execution_count": 12,
     "metadata": {},
     "output_type": "execute_result"
    }
   ],
   "source": [
    "# See shape\n",
    "df.shape"
   ]
  },
  {
   "cell_type": "code",
   "execution_count": 13,
   "metadata": {},
   "outputs": [],
   "source": [
    "# Check for duplicates\n",
    "dfDuplicate = df[~df.duplicated(\"Service\", keep='first')]\n",
    "df = dfDuplicate"
   ]
  },
  {
   "cell_type": "code",
   "execution_count": 14,
   "metadata": {},
   "outputs": [
    {
     "data": {
      "text/plain": [
       "(12958, 12)"
      ]
     },
     "execution_count": 14,
     "metadata": {},
     "output_type": "execute_result"
    }
   ],
   "source": [
    "df.shape"
   ]
  },
  {
   "cell_type": "code",
   "execution_count": 15,
   "metadata": {},
   "outputs": [
    {
     "data": {
      "text/html": [
       "<div>\n",
       "<style scoped>\n",
       "    .dataframe tbody tr th:only-of-type {\n",
       "        vertical-align: middle;\n",
       "    }\n",
       "\n",
       "    .dataframe tbody tr th {\n",
       "        vertical-align: top;\n",
       "    }\n",
       "\n",
       "    .dataframe thead th {\n",
       "        text-align: right;\n",
       "    }\n",
       "</style>\n",
       "<table border=\"1\" class=\"dataframe\">\n",
       "  <thead>\n",
       "    <tr style=\"text-align: right;\">\n",
       "      <th></th>\n",
       "      <th>Rating</th>\n",
       "      <th>Hires</th>\n",
       "      <th>Price</th>\n",
       "      <th>Zip Code</th>\n",
       "    </tr>\n",
       "  </thead>\n",
       "  <tbody>\n",
       "    <tr>\n",
       "      <th>count</th>\n",
       "      <td>12,086.00</td>\n",
       "      <td>9,086.00</td>\n",
       "      <td>8,294.00</td>\n",
       "      <td>12,958.00</td>\n",
       "    </tr>\n",
       "    <tr>\n",
       "      <th>mean</th>\n",
       "      <td>4.89</td>\n",
       "      <td>44.48</td>\n",
       "      <td>118.60</td>\n",
       "      <td>52,309.02</td>\n",
       "    </tr>\n",
       "    <tr>\n",
       "      <th>std</th>\n",
       "      <td>0.31</td>\n",
       "      <td>91.30</td>\n",
       "      <td>158.74</td>\n",
       "      <td>31,873.63</td>\n",
       "    </tr>\n",
       "    <tr>\n",
       "      <th>min</th>\n",
       "      <td>1.00</td>\n",
       "      <td>2.00</td>\n",
       "      <td>1.00</td>\n",
       "      <td>2,201.00</td>\n",
       "    </tr>\n",
       "    <tr>\n",
       "      <th>25%</th>\n",
       "      <td>5.00</td>\n",
       "      <td>6.00</td>\n",
       "      <td>50.00</td>\n",
       "      <td>23,219.00</td>\n",
       "    </tr>\n",
       "    <tr>\n",
       "      <th>50%</th>\n",
       "      <td>5.00</td>\n",
       "      <td>16.00</td>\n",
       "      <td>83.00</td>\n",
       "      <td>53,205.00</td>\n",
       "    </tr>\n",
       "    <tr>\n",
       "      <th>75%</th>\n",
       "      <td>5.00</td>\n",
       "      <td>45.00</td>\n",
       "      <td>145.00</td>\n",
       "      <td>84,111.00</td>\n",
       "    </tr>\n",
       "    <tr>\n",
       "      <th>max</th>\n",
       "      <td>5.00</td>\n",
       "      <td>2,041.00</td>\n",
       "      <td>6,000.00</td>\n",
       "      <td>99,801.00</td>\n",
       "    </tr>\n",
       "  </tbody>\n",
       "</table>\n",
       "</div>"
      ],
      "text/plain": [
       "         Rating    Hires    Price  Zip Code\n",
       "count 12,086.00 9,086.00 8,294.00 12,958.00\n",
       "mean       4.89    44.48   118.60 52,309.02\n",
       "std        0.31    91.30   158.74 31,873.63\n",
       "min        1.00     2.00     1.00  2,201.00\n",
       "25%        5.00     6.00    50.00 23,219.00\n",
       "50%        5.00    16.00    83.00 53,205.00\n",
       "75%        5.00    45.00   145.00 84,111.00\n",
       "max        5.00 2,041.00 6,000.00 99,801.00"
      ]
     },
     "execution_count": 15,
     "metadata": {},
     "output_type": "execute_result"
    }
   ],
   "source": [
    "# See overview of data\n",
    "df.describe()"
   ]
  },
  {
   "cell_type": "code",
   "execution_count": 16,
   "metadata": {},
   "outputs": [],
   "source": [
    "# Get implied revenue\n",
    "df[\"Implied Revenue\"] = df[\"Price\"] * df[\"Hires\"]"
   ]
  },
  {
   "cell_type": "code",
   "execution_count": 17,
   "metadata": {},
   "outputs": [
    {
     "name": "stdout",
     "output_type": "stream",
     "text": [
      "['Service' 'Rating' 'Hires' 'Price' 'Zip Code' 'Price Type' 'Services'\n",
      " 'Type' 'Segments' 'Capital City' 'State' 'Abbreviation' 'Implied Revenue']\n"
     ]
    }
   ],
   "source": [
    "# See columns\n",
    "print(df.columns.values)"
   ]
  },
  {
   "cell_type": "code",
   "execution_count": 18,
   "metadata": {},
   "outputs": [],
   "source": [
    "# Rearrange columsn\n",
    "df = df[[\n",
    "    'Segments', 'Services', 'Type', 'Service', 'Hires', 'Price', 'Price Type',\n",
    "    'Rating', 'Zip Code', 'Capital City', 'State', 'Abbreviation',\n",
    "    'Implied Revenue'\n",
    "]]"
   ]
  },
  {
   "cell_type": "code",
   "execution_count": 19,
   "metadata": {},
   "outputs": [],
   "source": [
    "df.to_csv(\"../output/all_services.csv\")"
   ]
  }
 ],
 "metadata": {
  "interpreter": {
   "hash": "c813680251bd8d0b07ad960ec3c16e45dc93400328438a85d36d0d2a96ed0efa"
  },
  "kernelspec": {
   "display_name": "Python 3 (ipykernel)",
   "language": "python",
   "name": "python3"
  },
  "language_info": {
   "codemirror_mode": {
    "name": "ipython",
    "version": 3
   },
   "file_extension": ".py",
   "mimetype": "text/x-python",
   "name": "python",
   "nbconvert_exporter": "python",
   "pygments_lexer": "ipython3",
   "version": "3.9.5"
  }
 },
 "nbformat": 4,
 "nbformat_minor": 2
}
