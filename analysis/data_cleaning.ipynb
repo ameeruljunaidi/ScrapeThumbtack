{
 "cells": [
  {
   "cell_type": "code",
   "execution_count": 1,
   "metadata": {},
   "outputs": [],
   "source": [
    "import os\n",
    "import glob\n",
    "import warnings\n",
    "import pandas as pd\n",
    "\n",
    "pd.options.display.float_format = \"{:,.2f}\".format\n",
    "pd.set_option(\"mode.chained_assignment\", None)\n",
    "\n",
    "warnings.filterwarnings(\"ignore\")"
   ]
  },
  {
   "cell_type": "code",
   "execution_count": 2,
   "metadata": {},
   "outputs": [
    {
     "data": {
      "text/html": [
       "<div>\n",
       "<style scoped>\n",
       "    .dataframe tbody tr th:only-of-type {\n",
       "        vertical-align: middle;\n",
       "    }\n",
       "\n",
       "    .dataframe tbody tr th {\n",
       "        vertical-align: top;\n",
       "    }\n",
       "\n",
       "    .dataframe thead th {\n",
       "        text-align: right;\n",
       "    }\n",
       "</style>\n",
       "<table border=\"1\" class=\"dataframe\">\n",
       "  <thead>\n",
       "    <tr style=\"text-align: right;\">\n",
       "      <th></th>\n",
       "      <th>Service</th>\n",
       "      <th>Type</th>\n",
       "      <th>Rating</th>\n",
       "      <th>Hires</th>\n",
       "      <th>Price</th>\n",
       "      <th>Zip Code</th>\n",
       "    </tr>\n",
       "  </thead>\n",
       "  <tbody>\n",
       "    <tr>\n",
       "      <th>0</th>\n",
       "      <td>MSF Landscapes, Masonry, and Irrigation</td>\n",
       "      <td>47</td>\n",
       "      <td>4.50</td>\n",
       "      <td>49.00</td>\n",
       "      <td>NaN</td>\n",
       "      <td>2903</td>\n",
       "    </tr>\n",
       "    <tr>\n",
       "      <th>1</th>\n",
       "      <td>Emi Ferreira Masonry</td>\n",
       "      <td>47</td>\n",
       "      <td>5.00</td>\n",
       "      <td>72.00</td>\n",
       "      <td>NaN</td>\n",
       "      <td>2903</td>\n",
       "    </tr>\n",
       "    <tr>\n",
       "      <th>2</th>\n",
       "      <td>27 Newman St</td>\n",
       "      <td>47</td>\n",
       "      <td>5.00</td>\n",
       "      <td>NaN</td>\n",
       "      <td>NaN</td>\n",
       "      <td>2903</td>\n",
       "    </tr>\n",
       "    <tr>\n",
       "      <th>3</th>\n",
       "      <td>JFLANDSCAPING</td>\n",
       "      <td>47</td>\n",
       "      <td>5.00</td>\n",
       "      <td>NaN</td>\n",
       "      <td>NaN</td>\n",
       "      <td>2903</td>\n",
       "    </tr>\n",
       "    <tr>\n",
       "      <th>4</th>\n",
       "      <td>Leaves land scape inc.</td>\n",
       "      <td>47</td>\n",
       "      <td>3.50</td>\n",
       "      <td>4.00</td>\n",
       "      <td>NaN</td>\n",
       "      <td>2903</td>\n",
       "    </tr>\n",
       "  </tbody>\n",
       "</table>\n",
       "</div>"
      ],
      "text/plain": [
       "                                   Service  Type  Rating  Hires Price  \\\n",
       "0  MSF Landscapes, Masonry, and Irrigation    47    4.50  49.00   NaN   \n",
       "1                     Emi Ferreira Masonry    47    5.00  72.00   NaN   \n",
       "2                             27 Newman St    47    5.00    NaN   NaN   \n",
       "3                            JFLANDSCAPING    47    5.00    NaN   NaN   \n",
       "4                   Leaves land scape inc.    47    3.50   4.00   NaN   \n",
       "\n",
       "   Zip Code  \n",
       "0      2903  \n",
       "1      2903  \n",
       "2      2903  \n",
       "3      2903  \n",
       "4      2903  "
      ]
     },
     "execution_count": 2,
     "metadata": {},
     "output_type": "execute_result"
    }
   ],
   "source": [
    "# Combine all the CSV files\n",
    "path = r\"../data\"\n",
    "all_csv = glob.glob(path + \"/*.csv\")\n",
    "\n",
    "temp = []\n",
    "for csv in all_csv:\n",
    "    df = pd.read_csv(csv, index_col=0, header=0, thousands=\",\")\n",
    "    temp.append(df)\n",
    "\n",
    "df = pd.concat(temp, axis=0, ignore_index=True)\n",
    "df.head()"
   ]
  },
  {
   "cell_type": "code",
   "execution_count": 3,
   "metadata": {},
   "outputs": [
    {
     "data": {
      "text/plain": [
       "(79304, 6)"
      ]
     },
     "execution_count": 3,
     "metadata": {},
     "output_type": "execute_result"
    }
   ],
   "source": [
    "df.shape"
   ]
  },
  {
   "cell_type": "code",
   "execution_count": 4,
   "metadata": {},
   "outputs": [
    {
     "data": {
      "text/plain": [
       "Service      object\n",
       "Type          int64\n",
       "Rating      float64\n",
       "Hires       float64\n",
       "Price        object\n",
       "Zip Code      int64\n",
       "dtype: object"
      ]
     },
     "execution_count": 4,
     "metadata": {},
     "output_type": "execute_result"
    }
   ],
   "source": [
    "# Check and fix dtype\n",
    "df.dtypes"
   ]
  },
  {
   "cell_type": "code",
   "execution_count": 5,
   "metadata": {
    "scrolled": false
   },
   "outputs": [
    {
     "data": {
      "text/plain": [
       "array([nan, '75/hour', '60/hour', '495/hour', '28/hour', '50/hour',\n",
       "       '65/hour', '45/hour', '125/hour', '35/hour', '40/hour', '70/hour',\n",
       "       '39/hour', '55/hour', '85/service', '50/service', '150-$200', 75.0,\n",
       "       300.0], dtype=object)"
      ]
     },
     "execution_count": 5,
     "metadata": {},
     "output_type": "execute_result"
    }
   ],
   "source": [
    "# See some prices values\n",
    "df[\"Price\"].unique()[:19]\n",
    "\n",
    "# Need to fix that hour thing"
   ]
  },
  {
   "cell_type": "code",
   "execution_count": 6,
   "metadata": {},
   "outputs": [
    {
     "data": {
      "text/plain": [
       "['hour',\n",
       " 'service',\n",
       " 'session',\n",
       " 'on-site',\n",
       " 'logo',\n",
       " 'lesson',\n",
       " 'consult',\n",
       " 'walk',\n",
       " 'cat',\n",
       " 'person',\n",
       " 'visit']"
      ]
     },
     "execution_count": 6,
     "metadata": {},
     "output_type": "execute_result"
    }
   ],
   "source": [
    "# See different types of payment\n",
    "df[\"Price\"] = df[\"Price\"].astype(str)\n",
    "\n",
    "tempList = []\n",
    "checkUnique = []\n",
    "for i in df[\"Price\"]:\n",
    "    x = i.split(\"/\")\n",
    "    tempList.append(x)\n",
    "\n",
    "for i in tempList:\n",
    "    try:\n",
    "        x = i[1]\n",
    "        checkUnique.append(x)\n",
    "    except:\n",
    "        pass\n",
    "\n",
    "checkUnique = list(dict.fromkeys(checkUnique))\n",
    "checkUnique"
   ]
  },
  {
   "cell_type": "code",
   "execution_count": 7,
   "metadata": {},
   "outputs": [],
   "source": [
    "# Removed the hour into another column\n",
    "tempPrice = []\n",
    "tempPriceType = []\n",
    "for i in df[\"Price\"]:\n",
    "    if i.find(\"-\") < 0:\n",
    "        x = i.split(\"/\")\n",
    "        tempPrice.append(x[0])\n",
    "        try:\n",
    "            y = x[1]\n",
    "        except:\n",
    "            y = \"\"\n",
    "    else:\n",
    "        x = i.split(\"/\")\n",
    "        x = x[0].split(\"-\")\n",
    "        tempPrice.append(x[0])\n",
    "        try:\n",
    "            y = x[1]\n",
    "        except:\n",
    "            y = \"\"\n",
    "    tempPriceType.append(y)\n",
    "\n",
    "# Add it to dataframe and check\n",
    "df[\"Price\"] = tempPrice\n",
    "df[\"Price Type\"] = tempPriceType\n",
    "df[\"Price Type\"] = df[\"Price Type\"].astype(str)\n",
    "\n",
    "# Convert price column to float\n",
    "df[\"Price\"] = df[\"Price\"].str.replace(\",\", \"\").astype(float)"
   ]
  },
  {
   "cell_type": "code",
   "execution_count": 8,
   "metadata": {},
   "outputs": [
    {
     "data": {
      "text/plain": [
       "Service        object\n",
       "Type            int64\n",
       "Rating        float64\n",
       "Hires         float64\n",
       "Price         float64\n",
       "Zip Code        int64\n",
       "Price Type     object\n",
       "dtype: object"
      ]
     },
     "execution_count": 8,
     "metadata": {},
     "output_type": "execute_result"
    }
   ],
   "source": [
    "# Double check data types\n",
    "df.dtypes"
   ]
  },
  {
   "cell_type": "code",
   "execution_count": 9,
   "metadata": {},
   "outputs": [],
   "source": [
    "# Add the service type from database\n",
    "serviceDf = pd.read_csv(\"../src/all_services.csv\")\n",
    "\n",
    "dfMerge = df.rename(columns={\"Type\": \"ID\"})\n",
    "dfMerge = pd.merge(dfMerge, serviceDf, left_on=\"ID\", right_on=\"ID\", how=\"left\").drop(\n",
    "    \"ID\", axis=1\n",
    ")\n",
    "df = dfMerge"
   ]
  },
  {
   "cell_type": "code",
   "execution_count": 10,
   "metadata": {},
   "outputs": [],
   "source": [
    "zipCodes = pd.read_csv(\"../src/us_states.csv\")\n",
    "\n",
    "dfMerge = df\n",
    "dfMerge = pd.merge(\n",
    "    dfMerge,\n",
    "    zipCodes,\n",
    "    left_on=\"Zip Code\",\n",
    "    right_on=\"Representative ZIP Code\",\n",
    "    how=\"left\",\n",
    ").drop(\"Representative ZIP Code\", axis=1)\n",
    "\n",
    "df = dfMerge"
   ]
  },
  {
   "cell_type": "code",
   "execution_count": 11,
   "metadata": {
    "scrolled": true
   },
   "outputs": [
    {
     "data": {
      "text/html": [
       "<div>\n",
       "<style scoped>\n",
       "    .dataframe tbody tr th:only-of-type {\n",
       "        vertical-align: middle;\n",
       "    }\n",
       "\n",
       "    .dataframe tbody tr th {\n",
       "        vertical-align: top;\n",
       "    }\n",
       "\n",
       "    .dataframe thead th {\n",
       "        text-align: right;\n",
       "    }\n",
       "</style>\n",
       "<table border=\"1\" class=\"dataframe\">\n",
       "  <thead>\n",
       "    <tr style=\"text-align: right;\">\n",
       "      <th></th>\n",
       "      <th>Service</th>\n",
       "      <th>Rating</th>\n",
       "      <th>Hires</th>\n",
       "      <th>Price</th>\n",
       "      <th>Zip Code</th>\n",
       "      <th>Price Type</th>\n",
       "      <th>Services</th>\n",
       "      <th>Type</th>\n",
       "      <th>Segments</th>\n",
       "      <th>Capital City</th>\n",
       "      <th>State</th>\n",
       "      <th>Abbreviation</th>\n",
       "    </tr>\n",
       "  </thead>\n",
       "  <tbody>\n",
       "    <tr>\n",
       "      <th>52601</th>\n",
       "      <td>CR INSPIRES</td>\n",
       "      <td>5.00</td>\n",
       "      <td>NaN</td>\n",
       "      <td>NaN</td>\n",
       "      <td>36104</td>\n",
       "      <td></td>\n",
       "      <td>Life Coaching</td>\n",
       "      <td>Main</td>\n",
       "      <td>Wellness</td>\n",
       "      <td>Montgomery</td>\n",
       "      <td>Alabama</td>\n",
       "      <td>AL</td>\n",
       "    </tr>\n",
       "    <tr>\n",
       "      <th>74104</th>\n",
       "      <td>Greyhawk Construction</td>\n",
       "      <td>5.00</td>\n",
       "      <td>3.00</td>\n",
       "      <td>NaN</td>\n",
       "      <td>95112</td>\n",
       "      <td></td>\n",
       "      <td>Basement Finishing or Remodeling</td>\n",
       "      <td>Peripheral</td>\n",
       "      <td>Home Improvement</td>\n",
       "      <td>San Jose</td>\n",
       "      <td>California</td>\n",
       "      <td>CA</td>\n",
       "    </tr>\n",
       "    <tr>\n",
       "      <th>75460</th>\n",
       "      <td>Ask The Organizing Diva</td>\n",
       "      <td>5.00</td>\n",
       "      <td>8.00</td>\n",
       "      <td>65.00</td>\n",
       "      <td>2201</td>\n",
       "      <td>hour</td>\n",
       "      <td>Closet and Shelving System Installation</td>\n",
       "      <td>Peripheral</td>\n",
       "      <td>Home Improvement</td>\n",
       "      <td>Boston</td>\n",
       "      <td>Massachusetts</td>\n",
       "      <td>MA</td>\n",
       "    </tr>\n",
       "  </tbody>\n",
       "</table>\n",
       "</div>"
      ],
      "text/plain": [
       "                       Service  Rating  Hires  Price  Zip Code Price Type  \\\n",
       "52601              CR INSPIRES    5.00    NaN    NaN     36104              \n",
       "74104    Greyhawk Construction    5.00   3.00    NaN     95112              \n",
       "75460  Ask The Organizing Diva    5.00   8.00  65.00      2201       hour   \n",
       "\n",
       "                                      Services        Type          Segments  \\\n",
       "52601                            Life Coaching        Main          Wellness   \n",
       "74104         Basement Finishing or Remodeling  Peripheral  Home Improvement   \n",
       "75460  Closet and Shelving System Installation  Peripheral  Home Improvement   \n",
       "\n",
       "      Capital City          State Abbreviation  \n",
       "52601   Montgomery        Alabama           AL  \n",
       "74104     San Jose     California           CA  \n",
       "75460       Boston  Massachusetts           MA  "
      ]
     },
     "execution_count": 11,
     "metadata": {},
     "output_type": "execute_result"
    }
   ],
   "source": [
    "df.sample(3)"
   ]
  },
  {
   "cell_type": "code",
   "execution_count": 12,
   "metadata": {},
   "outputs": [
    {
     "data": {
      "text/plain": [
       "(79304, 12)"
      ]
     },
     "execution_count": 12,
     "metadata": {},
     "output_type": "execute_result"
    }
   ],
   "source": [
    "# See shape\n",
    "df.shape"
   ]
  },
  {
   "cell_type": "code",
   "execution_count": 13,
   "metadata": {},
   "outputs": [],
   "source": [
    "# Check for duplicates\n",
    "dfDuplicate = df[~df.duplicated(\"Service\", keep=\"first\")]\n",
    "df = dfDuplicate"
   ]
  },
  {
   "cell_type": "code",
   "execution_count": 14,
   "metadata": {},
   "outputs": [
    {
     "data": {
      "text/plain": [
       "(18169, 12)"
      ]
     },
     "execution_count": 14,
     "metadata": {},
     "output_type": "execute_result"
    }
   ],
   "source": [
    "df.shape"
   ]
  },
  {
   "cell_type": "code",
   "execution_count": 15,
   "metadata": {},
   "outputs": [
    {
     "data": {
      "text/html": [
       "<div>\n",
       "<style scoped>\n",
       "    .dataframe tbody tr th:only-of-type {\n",
       "        vertical-align: middle;\n",
       "    }\n",
       "\n",
       "    .dataframe tbody tr th {\n",
       "        vertical-align: top;\n",
       "    }\n",
       "\n",
       "    .dataframe thead th {\n",
       "        text-align: right;\n",
       "    }\n",
       "</style>\n",
       "<table border=\"1\" class=\"dataframe\">\n",
       "  <thead>\n",
       "    <tr style=\"text-align: right;\">\n",
       "      <th></th>\n",
       "      <th>Rating</th>\n",
       "      <th>Hires</th>\n",
       "      <th>Price</th>\n",
       "      <th>Zip Code</th>\n",
       "    </tr>\n",
       "  </thead>\n",
       "  <tbody>\n",
       "    <tr>\n",
       "      <th>count</th>\n",
       "      <td>17,004.00</td>\n",
       "      <td>12,962.00</td>\n",
       "      <td>10,429.00</td>\n",
       "      <td>18,169.00</td>\n",
       "    </tr>\n",
       "    <tr>\n",
       "      <th>mean</th>\n",
       "      <td>4.89</td>\n",
       "      <td>47.31</td>\n",
       "      <td>127.21</td>\n",
       "      <td>52,037.80</td>\n",
       "    </tr>\n",
       "    <tr>\n",
       "      <th>std</th>\n",
       "      <td>0.31</td>\n",
       "      <td>99.29</td>\n",
       "      <td>251.46</td>\n",
       "      <td>31,855.06</td>\n",
       "    </tr>\n",
       "    <tr>\n",
       "      <th>min</th>\n",
       "      <td>1.00</td>\n",
       "      <td>2.00</td>\n",
       "      <td>1.00</td>\n",
       "      <td>2,201.00</td>\n",
       "    </tr>\n",
       "    <tr>\n",
       "      <th>25%</th>\n",
       "      <td>5.00</td>\n",
       "      <td>6.00</td>\n",
       "      <td>50.00</td>\n",
       "      <td>23,219.00</td>\n",
       "    </tr>\n",
       "    <tr>\n",
       "      <th>50%</th>\n",
       "      <td>5.00</td>\n",
       "      <td>17.00</td>\n",
       "      <td>80.00</td>\n",
       "      <td>50,309.00</td>\n",
       "    </tr>\n",
       "    <tr>\n",
       "      <th>75%</th>\n",
       "      <td>5.00</td>\n",
       "      <td>48.00</td>\n",
       "      <td>135.00</td>\n",
       "      <td>83,702.00</td>\n",
       "    </tr>\n",
       "    <tr>\n",
       "      <th>max</th>\n",
       "      <td>5.00</td>\n",
       "      <td>2,380.00</td>\n",
       "      <td>7,850.00</td>\n",
       "      <td>99,801.00</td>\n",
       "    </tr>\n",
       "  </tbody>\n",
       "</table>\n",
       "</div>"
      ],
      "text/plain": [
       "         Rating     Hires     Price  Zip Code\n",
       "count 17,004.00 12,962.00 10,429.00 18,169.00\n",
       "mean       4.89     47.31    127.21 52,037.80\n",
       "std        0.31     99.29    251.46 31,855.06\n",
       "min        1.00      2.00      1.00  2,201.00\n",
       "25%        5.00      6.00     50.00 23,219.00\n",
       "50%        5.00     17.00     80.00 50,309.00\n",
       "75%        5.00     48.00    135.00 83,702.00\n",
       "max        5.00  2,380.00  7,850.00 99,801.00"
      ]
     },
     "execution_count": 15,
     "metadata": {},
     "output_type": "execute_result"
    }
   ],
   "source": [
    "# See overview of data\n",
    "df.describe()"
   ]
  },
  {
   "cell_type": "code",
   "execution_count": 16,
   "metadata": {},
   "outputs": [],
   "source": [
    "# Get implied revenue\n",
    "df[\"Implied Revenue\"] = df[\"Price\"] * df[\"Hires\"]"
   ]
  },
  {
   "cell_type": "code",
   "execution_count": 17,
   "metadata": {},
   "outputs": [],
   "source": [
    "# Fix Zip Code datatype\n",
    "df[\"Zip Code\"] = df[\"Zip Code\"].astype(str)"
   ]
  },
  {
   "cell_type": "code",
   "execution_count": 18,
   "metadata": {},
   "outputs": [
    {
     "data": {
      "text/plain": [
       "Index(['Service', 'Rating', 'Hires', 'Price', 'Zip Code', 'Price Type',\n",
       "       'Services', 'Type', 'Segments', 'Capital City', 'State', 'Abbreviation',\n",
       "       'Implied Revenue'],\n",
       "      dtype='object')"
      ]
     },
     "execution_count": 18,
     "metadata": {},
     "output_type": "execute_result"
    }
   ],
   "source": [
    "# See columns\n",
    "df.columns"
   ]
  },
  {
   "cell_type": "code",
   "execution_count": 19,
   "metadata": {},
   "outputs": [],
   "source": [
    "# Rearrange columsn\n",
    "df = df[\n",
    "    [\n",
    "        \"Segments\",\n",
    "        \"Services\",\n",
    "        \"Type\",\n",
    "        \"Service\",\n",
    "        \"Hires\",\n",
    "        \"Price\",\n",
    "        \"Price Type\",\n",
    "        \"Rating\",\n",
    "        \"Zip Code\",\n",
    "        \"Capital City\",\n",
    "        \"State\",\n",
    "        \"Abbreviation\",\n",
    "        \"Implied Revenue\",\n",
    "    ]\n",
    "]"
   ]
  },
  {
   "cell_type": "code",
   "execution_count": 20,
   "metadata": {},
   "outputs": [],
   "source": [
    "df.to_csv(\"../output/all_services.csv\")"
   ]
  }
 ],
 "metadata": {
  "interpreter": {
   "hash": "c813680251bd8d0b07ad960ec3c16e45dc93400328438a85d36d0d2a96ed0efa"
  },
  "kernelspec": {
   "display_name": "Python 3 (ipykernel)",
   "language": "python",
   "name": "python3"
  },
  "language_info": {
   "codemirror_mode": {
    "name": "ipython",
    "version": 3
   },
   "file_extension": ".py",
   "mimetype": "text/x-python",
   "name": "python",
   "nbconvert_exporter": "python",
   "pygments_lexer": "ipython3",
   "version": "3.9.5"
  },
  "toc": {
   "base_numbering": 1,
   "nav_menu": {},
   "number_sections": true,
   "sideBar": true,
   "skip_h1_title": false,
   "title_cell": "Table of Contents",
   "title_sidebar": "Contents",
   "toc_cell": false,
   "toc_position": {},
   "toc_section_display": true,
   "toc_window_display": false
  },
  "varInspector": {
   "cols": {
    "lenName": 16,
    "lenType": 16,
    "lenVar": 40
   },
   "kernels_config": {
    "python": {
     "delete_cmd_postfix": "",
     "delete_cmd_prefix": "del ",
     "library": "var_list.py",
     "varRefreshCmd": "print(var_dic_list())"
    },
    "r": {
     "delete_cmd_postfix": ") ",
     "delete_cmd_prefix": "rm(",
     "library": "var_list.r",
     "varRefreshCmd": "cat(var_dic_list()) "
    }
   },
   "types_to_exclude": [
    "module",
    "function",
    "builtin_function_or_method",
    "instance",
    "_Feature"
   ],
   "window_display": false
  }
 },
 "nbformat": 4,
 "nbformat_minor": 2
}
