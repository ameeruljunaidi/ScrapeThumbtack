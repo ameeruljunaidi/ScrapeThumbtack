{
 "cells": [
  {
   "cell_type": "code",
   "execution_count": 3,
   "id": "769db83f",
   "metadata": {},
   "outputs": [],
   "source": [
    "from ipynb.fs.full.data_exploration import *"
   ]
  }
 ],
 "metadata": {
  "kernelspec": {
   "display_name": "Python 3.9.5 64-bit ('selenium': venv)",
   "language": "python",
   "name": "python395jvsc74a57bd0c813680251bd8d0b07ad960ec3c16e45dc93400328438a85d36d0d2a96ed0efa"
  },
  "language_info": {
   "codemirror_mode": {
    "name": "ipython",
    "version": 3
   },
   "file_extension": ".py",
   "mimetype": "text/x-python",
   "name": "python",
   "nbconvert_exporter": "python",
   "pygments_lexer": "ipython3",
   "version": "3.9.5"
  }
 },
 "nbformat": 4,
 "nbformat_minor": 5
}
