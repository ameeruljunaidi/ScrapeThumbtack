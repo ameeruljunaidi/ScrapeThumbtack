{
 "cells": [
  {
   "cell_type": "code",
   "execution_count": 1,
   "metadata": {},
   "outputs": [],
   "source": [
    "import os\n",
    "import glob\n",
    "import pandas as pd\n",
    "import matplotlib\n",
    "import numpy as np\n",
    "from numpy import NaN\n",
    "import matplotlib.pyplot as plt"
   ]
  },
  {
   "cell_type": "code",
   "execution_count": 2,
   "metadata": {},
   "outputs": [
    {
     "data": {
      "text/html": [
       "<div>\n",
       "<style scoped>\n",
       "    .dataframe tbody tr th:only-of-type {\n",
       "        vertical-align: middle;\n",
       "    }\n",
       "\n",
       "    .dataframe tbody tr th {\n",
       "        vertical-align: top;\n",
       "    }\n",
       "\n",
       "    .dataframe thead th {\n",
       "        text-align: right;\n",
       "    }\n",
       "</style>\n",
       "<table border=\"1\" class=\"dataframe\">\n",
       "  <thead>\n",
       "    <tr style=\"text-align: right;\">\n",
       "      <th></th>\n",
       "      <th>Service</th>\n",
       "      <th>Type</th>\n",
       "      <th>Rating</th>\n",
       "      <th>Hires</th>\n",
       "      <th>Price</th>\n",
       "      <th>Zip Code</th>\n",
       "    </tr>\n",
       "  </thead>\n",
       "  <tbody>\n",
       "    <tr>\n",
       "      <th>0</th>\n",
       "      <td>Second Growth Homes</td>\n",
       "      <td>123</td>\n",
       "      <td>NaN</td>\n",
       "      <td>NaN</td>\n",
       "      <td>NaN</td>\n",
       "      <td>99801</td>\n",
       "    </tr>\n",
       "    <tr>\n",
       "      <th>1</th>\n",
       "      <td>All-Pro Contractors</td>\n",
       "      <td>129</td>\n",
       "      <td>5.0</td>\n",
       "      <td>276.0</td>\n",
       "      <td>NaN</td>\n",
       "      <td>48226</td>\n",
       "    </tr>\n",
       "    <tr>\n",
       "      <th>2</th>\n",
       "      <td>Foster Exp.</td>\n",
       "      <td>129</td>\n",
       "      <td>5.0</td>\n",
       "      <td>49.0</td>\n",
       "      <td>42/hour</td>\n",
       "      <td>48226</td>\n",
       "    </tr>\n",
       "    <tr>\n",
       "      <th>3</th>\n",
       "      <td>B-Major Carpentry</td>\n",
       "      <td>129</td>\n",
       "      <td>4.5</td>\n",
       "      <td>12.0</td>\n",
       "      <td>75/hour</td>\n",
       "      <td>48226</td>\n",
       "    </tr>\n",
       "    <tr>\n",
       "      <th>4</th>\n",
       "      <td>Madison Property Services</td>\n",
       "      <td>129</td>\n",
       "      <td>4.5</td>\n",
       "      <td>12.0</td>\n",
       "      <td>80/hour</td>\n",
       "      <td>48226</td>\n",
       "    </tr>\n",
       "  </tbody>\n",
       "</table>\n",
       "</div>"
      ],
      "text/plain": [
       "                     Service  Type  Rating  Hires    Price  Zip Code\n",
       "0        Second Growth Homes   123     NaN    NaN      NaN     99801\n",
       "1        All-Pro Contractors   129     5.0  276.0      NaN     48226\n",
       "2                Foster Exp.   129     5.0   49.0  42/hour     48226\n",
       "3          B-Major Carpentry   129     4.5   12.0  75/hour     48226\n",
       "4  Madison Property Services   129     4.5   12.0  80/hour     48226"
      ]
     },
     "execution_count": 2,
     "metadata": {},
     "output_type": "execute_result"
    }
   ],
   "source": [
    "# Combine all the CSV files\n",
    "path = r'../data'\n",
    "all_csv = glob.glob(path + \"/*.csv\")\n",
    "\n",
    "temp = []\n",
    "for csv in all_csv:\n",
    "    df = pd.read_csv(csv, index_col=0, header=0, thousands=',')\n",
    "    temp.append(df)\n",
    "\n",
    "df = pd.concat(temp, axis=0, ignore_index=True)\n",
    "df.head()"
   ]
  },
  {
   "cell_type": "code",
   "execution_count": 3,
   "metadata": {},
   "outputs": [
    {
     "data": {
      "text/plain": [
       "(4059, 6)"
      ]
     },
     "execution_count": 3,
     "metadata": {},
     "output_type": "execute_result"
    }
   ],
   "source": [
    "df.shape"
   ]
  },
  {
   "cell_type": "code",
   "execution_count": 4,
   "metadata": {},
   "outputs": [
    {
     "data": {
      "text/plain": [
       "Service      object\n",
       "Type          int64\n",
       "Rating      float64\n",
       "Hires       float64\n",
       "Price        object\n",
       "Zip Code      int64\n",
       "dtype: object"
      ]
     },
     "execution_count": 4,
     "metadata": {},
     "output_type": "execute_result"
    }
   ],
   "source": [
    "# Check and fix dtype\n",
    "df.dtypes"
   ]
  },
  {
   "cell_type": "code",
   "execution_count": 5,
   "metadata": {
    "scrolled": false
   },
   "outputs": [
    {
     "data": {
      "text/plain": [
       "array([nan, '42/hour', '75/hour', '80/hour', 29.0, 35.0, 45.0, 40.0, 20.0,\n",
       "       30.0, 36.0, '49/on-site', '100/consult', '55/consult', 100.0,\n",
       "       120.0, 130.0, 125.0, 50.0], dtype=object)"
      ]
     },
     "execution_count": 5,
     "metadata": {},
     "output_type": "execute_result"
    }
   ],
   "source": [
    "# See some prices values\n",
    "df['Price'].unique()[:19]\n",
    "\n",
    "# Need to fix that hour thing"
   ]
  },
  {
   "cell_type": "code",
   "execution_count": 6,
   "metadata": {},
   "outputs": [
    {
     "data": {
      "text/plain": [
       "['hour', 'on-site', 'consult']"
      ]
     },
     "execution_count": 6,
     "metadata": {},
     "output_type": "execute_result"
    }
   ],
   "source": [
    "# See different types of payment\n",
    "df['Price'] = df['Price'].astype(str)\n",
    "\n",
    "tempList = []\n",
    "checkUnique = []\n",
    "for i in df[\"Price\"]:\n",
    "    x = i.split('/')\n",
    "    tempList.append(x)\n",
    "    \n",
    "for i in tempList:\n",
    "    try:\n",
    "        x = i[1]\n",
    "        checkUnique.append(x)\n",
    "    except:\n",
    "        pass\n",
    "\n",
    "checkUnique = list(dict.fromkeys(checkUnique))\n",
    "checkUnique"
   ]
  },
  {
   "cell_type": "code",
   "execution_count": 7,
   "metadata": {},
   "outputs": [],
   "source": [
    "# Removed the hour into another column\n",
    "tempPrice = []\n",
    "tempPriceType = []\n",
    "for i in df['Price']:\n",
    "    x = i.split('/')\n",
    "    tempPrice.append(x[0])\n",
    "    try:\n",
    "        y = x[1]\n",
    "    except:\n",
    "        y = \"\"\n",
    "    tempPriceType.append(y)\n",
    "\n",
    "# Add it to dataframe and check\n",
    "df['Price'] = tempPrice\n",
    "df['Price Type'] = tempPriceType\n",
    "df['Price Type'] = df['Price Type'].astype(str)\n",
    "\n",
    "# Convert price column to float\n",
    "df['Price'] = df['Price'].str.replace(\",\",\"\").astype(float)"
   ]
  },
  {
   "cell_type": "code",
   "execution_count": 8,
   "metadata": {},
   "outputs": [
    {
     "data": {
      "text/plain": [
       "Service        object\n",
       "Type            int64\n",
       "Rating        float64\n",
       "Hires         float64\n",
       "Price         float64\n",
       "Zip Code        int64\n",
       "Price Type     object\n",
       "dtype: object"
      ]
     },
     "execution_count": 8,
     "metadata": {},
     "output_type": "execute_result"
    }
   ],
   "source": [
    "# Double check data types\n",
    "df.dtypes"
   ]
  },
  {
   "cell_type": "code",
   "execution_count": 9,
   "metadata": {},
   "outputs": [],
   "source": [
    "# Add the service type from database\n",
    "serviceDf = pd.read_csv('../src/all_services.csv')\n",
    "\n",
    "dfMerge = df.rename(columns={\"Type\": \"ID\"})\n",
    "dfMerge = pd.merge(dfMerge, serviceDf, left_on='ID', right_on='ID',\n",
    "                   how='left').drop('ID', axis=1)\n",
    "df = dfMerge"
   ]
  },
  {
   "cell_type": "code",
   "execution_count": 10,
   "metadata": {},
   "outputs": [
    {
     "data": {
      "text/plain": [
       "(4059, 9)"
      ]
     },
     "execution_count": 10,
     "metadata": {},
     "output_type": "execute_result"
    }
   ],
   "source": [
    "# See shape\n",
    "df.shape"
   ]
  },
  {
   "cell_type": "code",
   "execution_count": 11,
   "metadata": {},
   "outputs": [
    {
     "data": {
      "text/html": [
       "<div>\n",
       "<style scoped>\n",
       "    .dataframe tbody tr th:only-of-type {\n",
       "        vertical-align: middle;\n",
       "    }\n",
       "\n",
       "    .dataframe tbody tr th {\n",
       "        vertical-align: top;\n",
       "    }\n",
       "\n",
       "    .dataframe thead th {\n",
       "        text-align: right;\n",
       "    }\n",
       "</style>\n",
       "<table border=\"1\" class=\"dataframe\">\n",
       "  <thead>\n",
       "    <tr style=\"text-align: right;\">\n",
       "      <th></th>\n",
       "      <th>Service</th>\n",
       "      <th>Rating</th>\n",
       "      <th>Hires</th>\n",
       "      <th>Price</th>\n",
       "      <th>Zip Code</th>\n",
       "      <th>Price Type</th>\n",
       "      <th>Services</th>\n",
       "      <th>Type</th>\n",
       "      <th>Segments</th>\n",
       "    </tr>\n",
       "  </thead>\n",
       "  <tbody>\n",
       "  </tbody>\n",
       "</table>\n",
       "</div>"
      ],
      "text/plain": [
       "Empty DataFrame\n",
       "Columns: [Service, Rating, Hires, Price, Zip Code, Price Type, Services, Type, Segments]\n",
       "Index: []"
      ]
     },
     "execution_count": 11,
     "metadata": {},
     "output_type": "execute_result"
    }
   ],
   "source": [
    "# Check for duplicates\n",
    "dfDuplicate = df[df.duplicated()]\n",
    "dfDuplicate\n",
    "\n",
    "# Deal with duplicates accordingly if there are any"
   ]
  },
  {
   "cell_type": "code",
   "execution_count": 12,
   "metadata": {},
   "outputs": [
    {
     "data": {
      "text/html": [
       "<div>\n",
       "<style scoped>\n",
       "    .dataframe tbody tr th:only-of-type {\n",
       "        vertical-align: middle;\n",
       "    }\n",
       "\n",
       "    .dataframe tbody tr th {\n",
       "        vertical-align: top;\n",
       "    }\n",
       "\n",
       "    .dataframe thead th {\n",
       "        text-align: right;\n",
       "    }\n",
       "</style>\n",
       "<table border=\"1\" class=\"dataframe\">\n",
       "  <thead>\n",
       "    <tr style=\"text-align: right;\">\n",
       "      <th></th>\n",
       "      <th>Rating</th>\n",
       "      <th>Hires</th>\n",
       "      <th>Price</th>\n",
       "      <th>Zip Code</th>\n",
       "    </tr>\n",
       "  </thead>\n",
       "  <tbody>\n",
       "    <tr>\n",
       "      <th>count</th>\n",
       "      <td>3762.000000</td>\n",
       "      <td>2769.000000</td>\n",
       "      <td>1704.000000</td>\n",
       "      <td>4059.000000</td>\n",
       "    </tr>\n",
       "    <tr>\n",
       "      <th>mean</th>\n",
       "      <td>4.782961</td>\n",
       "      <td>56.390033</td>\n",
       "      <td>97.628521</td>\n",
       "      <td>56799.934713</td>\n",
       "    </tr>\n",
       "    <tr>\n",
       "      <th>std</th>\n",
       "      <td>0.432967</td>\n",
       "      <td>137.418621</td>\n",
       "      <td>220.011663</td>\n",
       "      <td>29242.842892</td>\n",
       "    </tr>\n",
       "    <tr>\n",
       "      <th>min</th>\n",
       "      <td>1.000000</td>\n",
       "      <td>2.000000</td>\n",
       "      <td>1.000000</td>\n",
       "      <td>2201.000000</td>\n",
       "    </tr>\n",
       "    <tr>\n",
       "      <th>25%</th>\n",
       "      <td>4.500000</td>\n",
       "      <td>6.000000</td>\n",
       "      <td>50.000000</td>\n",
       "      <td>30303.000000</td>\n",
       "    </tr>\n",
       "    <tr>\n",
       "      <th>50%</th>\n",
       "      <td>5.000000</td>\n",
       "      <td>17.000000</td>\n",
       "      <td>80.000000</td>\n",
       "      <td>55404.000000</td>\n",
       "    </tr>\n",
       "    <tr>\n",
       "      <th>75%</th>\n",
       "      <td>5.000000</td>\n",
       "      <td>48.000000</td>\n",
       "      <td>109.250000</td>\n",
       "      <td>84111.000000</td>\n",
       "    </tr>\n",
       "    <tr>\n",
       "      <th>max</th>\n",
       "      <td>5.000000</td>\n",
       "      <td>2040.000000</td>\n",
       "      <td>6000.000000</td>\n",
       "      <td>99801.000000</td>\n",
       "    </tr>\n",
       "  </tbody>\n",
       "</table>\n",
       "</div>"
      ],
      "text/plain": [
       "            Rating        Hires        Price      Zip Code\n",
       "count  3762.000000  2769.000000  1704.000000   4059.000000\n",
       "mean      4.782961    56.390033    97.628521  56799.934713\n",
       "std       0.432967   137.418621   220.011663  29242.842892\n",
       "min       1.000000     2.000000     1.000000   2201.000000\n",
       "25%       4.500000     6.000000    50.000000  30303.000000\n",
       "50%       5.000000    17.000000    80.000000  55404.000000\n",
       "75%       5.000000    48.000000   109.250000  84111.000000\n",
       "max       5.000000  2040.000000  6000.000000  99801.000000"
      ]
     },
     "execution_count": 12,
     "metadata": {},
     "output_type": "execute_result"
    }
   ],
   "source": [
    "# See overview of data\n",
    "df.describe()"
   ]
  },
  {
   "cell_type": "code",
   "execution_count": 13,
   "metadata": {
    "scrolled": true
   },
   "outputs": [
    {
     "data": {
      "text/html": [
       "<div>\n",
       "<style scoped>\n",
       "    .dataframe tbody tr th:only-of-type {\n",
       "        vertical-align: middle;\n",
       "    }\n",
       "\n",
       "    .dataframe tbody tr th {\n",
       "        vertical-align: top;\n",
       "    }\n",
       "\n",
       "    .dataframe thead th {\n",
       "        text-align: right;\n",
       "    }\n",
       "</style>\n",
       "<table border=\"1\" class=\"dataframe\">\n",
       "  <thead>\n",
       "    <tr style=\"text-align: right;\">\n",
       "      <th></th>\n",
       "      <th>Services</th>\n",
       "      <th>Count</th>\n",
       "      <th>Contribution</th>\n",
       "    </tr>\n",
       "  </thead>\n",
       "  <tbody>\n",
       "    <tr>\n",
       "      <th>9</th>\n",
       "      <td>Roof Installation or Replacement</td>\n",
       "      <td>956</td>\n",
       "      <td>0.235526</td>\n",
       "    </tr>\n",
       "    <tr>\n",
       "      <th>6</th>\n",
       "      <td>Insulation Installation or Upgrade</td>\n",
       "      <td>828</td>\n",
       "      <td>0.203991</td>\n",
       "    </tr>\n",
       "    <tr>\n",
       "      <th>4</th>\n",
       "      <td>Hot Tub and Spa Repair</td>\n",
       "      <td>596</td>\n",
       "      <td>0.146834</td>\n",
       "    </tr>\n",
       "    <tr>\n",
       "      <th>8</th>\n",
       "      <td>Lawn Mower Repair</td>\n",
       "      <td>445</td>\n",
       "      <td>0.109633</td>\n",
       "    </tr>\n",
       "    <tr>\n",
       "      <th>0</th>\n",
       "      <td>General Carpentry</td>\n",
       "      <td>396</td>\n",
       "      <td>0.097561</td>\n",
       "    </tr>\n",
       "    <tr>\n",
       "      <th>2</th>\n",
       "      <td>Gutter Repair</td>\n",
       "      <td>356</td>\n",
       "      <td>0.087706</td>\n",
       "    </tr>\n",
       "    <tr>\n",
       "      <th>5</th>\n",
       "      <td>In-Ground Swimming Pool Construction</td>\n",
       "      <td>247</td>\n",
       "      <td>0.060852</td>\n",
       "    </tr>\n",
       "    <tr>\n",
       "      <th>1</th>\n",
       "      <td>Gutter Installation or Replacement</td>\n",
       "      <td>127</td>\n",
       "      <td>0.031288</td>\n",
       "    </tr>\n",
       "    <tr>\n",
       "      <th>3</th>\n",
       "      <td>Hot Tub and Spa Installation</td>\n",
       "      <td>70</td>\n",
       "      <td>0.017246</td>\n",
       "    </tr>\n",
       "    <tr>\n",
       "      <th>7</th>\n",
       "      <td>Land Surveying</td>\n",
       "      <td>38</td>\n",
       "      <td>0.009362</td>\n",
       "    </tr>\n",
       "  </tbody>\n",
       "</table>\n",
       "</div>"
      ],
      "text/plain": [
       "                               Services  Count  Contribution\n",
       "9      Roof Installation or Replacement    956      0.235526\n",
       "6    Insulation Installation or Upgrade    828      0.203991\n",
       "4                Hot Tub and Spa Repair    596      0.146834\n",
       "8                     Lawn Mower Repair    445      0.109633\n",
       "0                     General Carpentry    396      0.097561\n",
       "2                         Gutter Repair    356      0.087706\n",
       "5  In-Ground Swimming Pool Construction    247      0.060852\n",
       "1    Gutter Installation or Replacement    127      0.031288\n",
       "3          Hot Tub and Spa Installation     70      0.017246\n",
       "7                        Land Surveying     38      0.009362"
      ]
     },
     "execution_count": 13,
     "metadata": {},
     "output_type": "execute_result"
    }
   ],
   "source": [
    "# See basic count\n",
    "servicesCount = df.groupby(\"Services\")[\"Services\"].count().to_frame(\n",
    "    name=\"Count\").reset_index()\n",
    "servicesCount = servicesCount.sort_values(by=\"Count\", ascending=False)\n",
    "servicesCount[\n",
    "    \"Contribution\"] = servicesCount[\"Count\"] / servicesCount[\"Count\"].sum()\n",
    "servicesCount"
   ]
  },
  {
   "cell_type": "code",
   "execution_count": 14,
   "metadata": {},
   "outputs": [],
   "source": [
    "# Get implied revenue\n",
    "df[\"Implied Revenue\"] = df[\"Price\"] * df[\"Hires\"]\n",
    "\n",
    "# Get sum of implied revenue by segment\n",
    "dfRevenuBySegment = df.groupby(\"Segments\")[\"Implied Revenue\"].sum().to_frame(\n",
    "    name=\"Implied Revenue\").reset_index()\n",
    "dfRevenuBySegment[\"Contribution\"] = dfRevenuBySegment[\n",
    "    \"Implied Revenue\"] / dfRevenuBySegment[\"Implied Revenue\"].sum()\n",
    "\n",
    "# Get sum of implied revenue by services\n",
    "dfRevenuByServices = df.groupby(\"Services\")[\"Implied Revenue\"].sum().to_frame(\n",
    "    name=\"Implied Revenue\").reset_index()\n",
    "dfRevenuByServices[\"Contribution\"] = dfRevenuByServices[\n",
    "    \"Implied Revenue\"] / dfRevenuByServices[\"Implied Revenue\"].sum()\n",
    "\n",
    "# Get sum of implied revenue by zipcodes\n",
    "dfRevenuByRevenue = df.groupby(\"Zip Code\")[\"Implied Revenue\"].sum().to_frame(\n",
    "    name=\"Implied Revenue\").reset_index()\n",
    "dfRevenuByRevenue[\"Contribution\"] = dfRevenuByRevenue[\n",
    "    \"Implied Revenue\"] / dfRevenuByRevenue[\"Implied Revenue\"].sum()"
   ]
  },
  {
   "cell_type": "code",
   "execution_count": 15,
   "metadata": {},
   "outputs": [
    {
     "data": {
      "text/html": [
       "<div>\n",
       "<style scoped>\n",
       "    .dataframe tbody tr th:only-of-type {\n",
       "        vertical-align: middle;\n",
       "    }\n",
       "\n",
       "    .dataframe tbody tr th {\n",
       "        vertical-align: top;\n",
       "    }\n",
       "\n",
       "    .dataframe thead th {\n",
       "        text-align: right;\n",
       "    }\n",
       "</style>\n",
       "<table border=\"1\" class=\"dataframe\">\n",
       "  <thead>\n",
       "    <tr style=\"text-align: right;\">\n",
       "      <th></th>\n",
       "      <th>Segments</th>\n",
       "      <th>Implied Revenue</th>\n",
       "      <th>Contribution</th>\n",
       "    </tr>\n",
       "  </thead>\n",
       "  <tbody>\n",
       "    <tr>\n",
       "      <th>0</th>\n",
       "      <td>Home Improvement</td>\n",
       "      <td>6810922.0</td>\n",
       "      <td>1.0</td>\n",
       "    </tr>\n",
       "  </tbody>\n",
       "</table>\n",
       "</div>"
      ],
      "text/plain": [
       "           Segments  Implied Revenue  Contribution\n",
       "0  Home Improvement        6810922.0           1.0"
      ]
     },
     "execution_count": 15,
     "metadata": {},
     "output_type": "execute_result"
    }
   ],
   "source": [
    "dfRevenuBySegment.sort_values(by=\"Contribution\", ascending=False)"
   ]
  },
  {
   "cell_type": "code",
   "execution_count": 16,
   "metadata": {
    "scrolled": true
   },
   "outputs": [
    {
     "data": {
      "text/html": [
       "<div>\n",
       "<style scoped>\n",
       "    .dataframe tbody tr th:only-of-type {\n",
       "        vertical-align: middle;\n",
       "    }\n",
       "\n",
       "    .dataframe tbody tr th {\n",
       "        vertical-align: top;\n",
       "    }\n",
       "\n",
       "    .dataframe thead th {\n",
       "        text-align: right;\n",
       "    }\n",
       "</style>\n",
       "<table border=\"1\" class=\"dataframe\">\n",
       "  <thead>\n",
       "    <tr style=\"text-align: right;\">\n",
       "      <th></th>\n",
       "      <th>Services</th>\n",
       "      <th>Implied Revenue</th>\n",
       "      <th>Contribution</th>\n",
       "    </tr>\n",
       "  </thead>\n",
       "  <tbody>\n",
       "    <tr>\n",
       "      <th>4</th>\n",
       "      <td>Hot Tub and Spa Repair</td>\n",
       "      <td>2750469.0</td>\n",
       "      <td>0.403832</td>\n",
       "    </tr>\n",
       "    <tr>\n",
       "      <th>2</th>\n",
       "      <td>Gutter Repair</td>\n",
       "      <td>1570004.0</td>\n",
       "      <td>0.230513</td>\n",
       "    </tr>\n",
       "    <tr>\n",
       "      <th>8</th>\n",
       "      <td>Lawn Mower Repair</td>\n",
       "      <td>1187134.0</td>\n",
       "      <td>0.174299</td>\n",
       "    </tr>\n",
       "    <tr>\n",
       "      <th>6</th>\n",
       "      <td>Insulation Installation or Upgrade</td>\n",
       "      <td>633311.0</td>\n",
       "      <td>0.092985</td>\n",
       "    </tr>\n",
       "    <tr>\n",
       "      <th>9</th>\n",
       "      <td>Roof Installation or Replacement</td>\n",
       "      <td>434815.0</td>\n",
       "      <td>0.063841</td>\n",
       "    </tr>\n",
       "    <tr>\n",
       "      <th>3</th>\n",
       "      <td>Hot Tub and Spa Installation</td>\n",
       "      <td>108995.0</td>\n",
       "      <td>0.016003</td>\n",
       "    </tr>\n",
       "    <tr>\n",
       "      <th>7</th>\n",
       "      <td>Land Surveying</td>\n",
       "      <td>105170.0</td>\n",
       "      <td>0.015441</td>\n",
       "    </tr>\n",
       "    <tr>\n",
       "      <th>0</th>\n",
       "      <td>General Carpentry</td>\n",
       "      <td>21024.0</td>\n",
       "      <td>0.003087</td>\n",
       "    </tr>\n",
       "    <tr>\n",
       "      <th>1</th>\n",
       "      <td>Gutter Installation or Replacement</td>\n",
       "      <td>0.0</td>\n",
       "      <td>0.000000</td>\n",
       "    </tr>\n",
       "    <tr>\n",
       "      <th>5</th>\n",
       "      <td>In-Ground Swimming Pool Construction</td>\n",
       "      <td>0.0</td>\n",
       "      <td>0.000000</td>\n",
       "    </tr>\n",
       "  </tbody>\n",
       "</table>\n",
       "</div>"
      ],
      "text/plain": [
       "                               Services  Implied Revenue  Contribution\n",
       "4                Hot Tub and Spa Repair        2750469.0      0.403832\n",
       "2                         Gutter Repair        1570004.0      0.230513\n",
       "8                     Lawn Mower Repair        1187134.0      0.174299\n",
       "6    Insulation Installation or Upgrade         633311.0      0.092985\n",
       "9      Roof Installation or Replacement         434815.0      0.063841\n",
       "3          Hot Tub and Spa Installation         108995.0      0.016003\n",
       "7                        Land Surveying         105170.0      0.015441\n",
       "0                     General Carpentry          21024.0      0.003087\n",
       "1    Gutter Installation or Replacement              0.0      0.000000\n",
       "5  In-Ground Swimming Pool Construction              0.0      0.000000"
      ]
     },
     "execution_count": 16,
     "metadata": {},
     "output_type": "execute_result"
    }
   ],
   "source": [
    "dfRevenuByServices.sort_values(by=\"Contribution\", ascending=False)"
   ]
  },
  {
   "cell_type": "code",
   "execution_count": 17,
   "metadata": {},
   "outputs": [
    {
     "data": {
      "text/html": [
       "<div>\n",
       "<style scoped>\n",
       "    .dataframe tbody tr th:only-of-type {\n",
       "        vertical-align: middle;\n",
       "    }\n",
       "\n",
       "    .dataframe tbody tr th {\n",
       "        vertical-align: top;\n",
       "    }\n",
       "\n",
       "    .dataframe thead th {\n",
       "        text-align: right;\n",
       "    }\n",
       "</style>\n",
       "<table border=\"1\" class=\"dataframe\">\n",
       "  <thead>\n",
       "    <tr style=\"text-align: right;\">\n",
       "      <th></th>\n",
       "      <th>Zip Code</th>\n",
       "      <th>Implied Revenue</th>\n",
       "      <th>Contribution</th>\n",
       "    </tr>\n",
       "  </thead>\n",
       "  <tbody>\n",
       "    <tr>\n",
       "      <th>79</th>\n",
       "      <td>94108</td>\n",
       "      <td>415415.0</td>\n",
       "      <td>0.060992</td>\n",
       "    </tr>\n",
       "    <tr>\n",
       "      <th>19</th>\n",
       "      <td>20001</td>\n",
       "      <td>361034.0</td>\n",
       "      <td>0.053008</td>\n",
       "    </tr>\n",
       "    <tr>\n",
       "      <th>64</th>\n",
       "      <td>75207</td>\n",
       "      <td>344924.0</td>\n",
       "      <td>0.050643</td>\n",
       "    </tr>\n",
       "    <tr>\n",
       "      <th>80</th>\n",
       "      <td>95112</td>\n",
       "      <td>333117.0</td>\n",
       "      <td>0.048909</td>\n",
       "    </tr>\n",
       "    <tr>\n",
       "      <th>65</th>\n",
       "      <td>77002</td>\n",
       "      <td>306766.0</td>\n",
       "      <td>0.045040</td>\n",
       "    </tr>\n",
       "    <tr>\n",
       "      <th>...</th>\n",
       "      <td>...</td>\n",
       "      <td>...</td>\n",
       "      <td>...</td>\n",
       "    </tr>\n",
       "    <tr>\n",
       "      <th>5</th>\n",
       "      <td>4330</td>\n",
       "      <td>0.0</td>\n",
       "      <td>0.000000</td>\n",
       "    </tr>\n",
       "    <tr>\n",
       "      <th>4</th>\n",
       "      <td>4101</td>\n",
       "      <td>0.0</td>\n",
       "      <td>0.000000</td>\n",
       "    </tr>\n",
       "    <tr>\n",
       "      <th>3</th>\n",
       "      <td>3301</td>\n",
       "      <td>0.0</td>\n",
       "      <td>0.000000</td>\n",
       "    </tr>\n",
       "    <tr>\n",
       "      <th>2</th>\n",
       "      <td>3108</td>\n",
       "      <td>0.0</td>\n",
       "      <td>0.000000</td>\n",
       "    </tr>\n",
       "    <tr>\n",
       "      <th>88</th>\n",
       "      <td>99801</td>\n",
       "      <td>0.0</td>\n",
       "      <td>0.000000</td>\n",
       "    </tr>\n",
       "  </tbody>\n",
       "</table>\n",
       "<p>89 rows × 3 columns</p>\n",
       "</div>"
      ],
      "text/plain": [
       "    Zip Code  Implied Revenue  Contribution\n",
       "79     94108         415415.0      0.060992\n",
       "19     20001         361034.0      0.053008\n",
       "64     75207         344924.0      0.050643\n",
       "80     95112         333117.0      0.048909\n",
       "65     77002         306766.0      0.045040\n",
       "..       ...              ...           ...\n",
       "5       4330              0.0      0.000000\n",
       "4       4101              0.0      0.000000\n",
       "3       3301              0.0      0.000000\n",
       "2       3108              0.0      0.000000\n",
       "88     99801              0.0      0.000000\n",
       "\n",
       "[89 rows x 3 columns]"
      ]
     },
     "execution_count": 17,
     "metadata": {},
     "output_type": "execute_result"
    }
   ],
   "source": [
    "dfRevenuByRevenue.sort_values(by=\"Contribution\", ascending=False)"
   ]
  },
  {
   "cell_type": "code",
   "execution_count": 18,
   "metadata": {},
   "outputs": [],
   "source": [
    "# Rearrange columsn\n",
    "df = df[[\n",
    "    'Segments', 'Services', 'Service', 'Type', 'Hires', 'Price', 'Price Type',\n",
    "    'Rating', 'Zip Code', 'Implied Revenue'\n",
    "]]"
   ]
  },
  {
   "cell_type": "code",
   "execution_count": 19,
   "metadata": {},
   "outputs": [
    {
     "name": "stdout",
     "output_type": "stream",
     "text": [
      "['Segments' 'Services' 'Service' 'Type' 'Hires' 'Price' 'Price Type'\n",
      " 'Rating' 'Zip Code' 'Implied Revenue']\n"
     ]
    }
   ],
   "source": [
    "# See columns\n",
    "print(df.columns.values)"
   ]
  },
  {
   "cell_type": "code",
   "execution_count": 20,
   "metadata": {},
   "outputs": [],
   "source": [
    "df.to_csv(\"all_services.csv\")"
   ]
  }
 ],
 "metadata": {
  "interpreter": {
   "hash": "c813680251bd8d0b07ad960ec3c16e45dc93400328438a85d36d0d2a96ed0efa"
  },
  "kernelspec": {
   "display_name": "Python 3 (ipykernel)",
   "language": "python",
   "name": "python3"
  },
  "language_info": {
   "codemirror_mode": {
    "name": "ipython",
    "version": 3
   },
   "file_extension": ".py",
   "mimetype": "text/x-python",
   "name": "python",
   "nbconvert_exporter": "python",
   "pygments_lexer": "ipython3",
   "version": "3.9.5"
  }
 },
 "nbformat": 4,
 "nbformat_minor": 2
}
