{
 "cells": [
  {
   "cell_type": "code",
   "execution_count": 1,
   "metadata": {},
   "outputs": [],
   "source": [
    "import os\n",
    "import glob\n",
    "import pandas as pd\n",
    "import matplotlib\n",
    "import numpy as np\n",
    "from numpy import NaN\n",
    "import matplotlib.pyplot as plt"
   ]
  },
  {
   "cell_type": "code",
   "execution_count": 2,
   "metadata": {},
   "outputs": [
    {
     "data": {
      "text/html": [
       "<div>\n",
       "<style scoped>\n",
       "    .dataframe tbody tr th:only-of-type {\n",
       "        vertical-align: middle;\n",
       "    }\n",
       "\n",
       "    .dataframe tbody tr th {\n",
       "        vertical-align: top;\n",
       "    }\n",
       "\n",
       "    .dataframe thead th {\n",
       "        text-align: right;\n",
       "    }\n",
       "</style>\n",
       "<table border=\"1\" class=\"dataframe\">\n",
       "  <thead>\n",
       "    <tr style=\"text-align: right;\">\n",
       "      <th></th>\n",
       "      <th>Service</th>\n",
       "      <th>Type</th>\n",
       "      <th>Rating</th>\n",
       "      <th>Hires</th>\n",
       "      <th>Price</th>\n",
       "      <th>Zip Code</th>\n",
       "    </tr>\n",
       "  </thead>\n",
       "  <tbody>\n",
       "    <tr>\n",
       "      <th>0</th>\n",
       "      <td>All-Pro Contractors</td>\n",
       "      <td>129</td>\n",
       "      <td>5.0</td>\n",
       "      <td>276.0</td>\n",
       "      <td>NaN</td>\n",
       "      <td>48226</td>\n",
       "    </tr>\n",
       "    <tr>\n",
       "      <th>1</th>\n",
       "      <td>Foster Exp.</td>\n",
       "      <td>129</td>\n",
       "      <td>5.0</td>\n",
       "      <td>49.0</td>\n",
       "      <td>42/hour</td>\n",
       "      <td>48226</td>\n",
       "    </tr>\n",
       "    <tr>\n",
       "      <th>2</th>\n",
       "      <td>B-Major Carpentry</td>\n",
       "      <td>129</td>\n",
       "      <td>4.5</td>\n",
       "      <td>12.0</td>\n",
       "      <td>75/hour</td>\n",
       "      <td>48226</td>\n",
       "    </tr>\n",
       "    <tr>\n",
       "      <th>3</th>\n",
       "      <td>Madison Property Services</td>\n",
       "      <td>129</td>\n",
       "      <td>4.5</td>\n",
       "      <td>12.0</td>\n",
       "      <td>80/hour</td>\n",
       "      <td>48226</td>\n",
       "    </tr>\n",
       "    <tr>\n",
       "      <th>4</th>\n",
       "      <td>LawnStarter Lawn Care</td>\n",
       "      <td>160</td>\n",
       "      <td>4.0</td>\n",
       "      <td>362.0</td>\n",
       "      <td>29.0</td>\n",
       "      <td>50309</td>\n",
       "    </tr>\n",
       "  </tbody>\n",
       "</table>\n",
       "</div>"
      ],
      "text/plain": [
       "                     Service  Type  Rating  Hires    Price  Zip Code\n",
       "0        All-Pro Contractors   129     5.0  276.0      NaN     48226\n",
       "1                Foster Exp.   129     5.0   49.0  42/hour     48226\n",
       "2          B-Major Carpentry   129     4.5   12.0  75/hour     48226\n",
       "3  Madison Property Services   129     4.5   12.0  80/hour     48226\n",
       "4      LawnStarter Lawn Care   160     4.0  362.0     29.0     50309"
      ]
     },
     "execution_count": 2,
     "metadata": {},
     "output_type": "execute_result"
    }
   ],
   "source": [
    "# Combine all the CSV files\n",
    "path = r'../data'\n",
    "all_csv = glob.glob(path + \"/*.csv\")\n",
    "\n",
    "temp = []\n",
    "for csv in all_csv:\n",
    "    df = pd.read_csv(csv, index_col=0, header=0, thousands=',')\n",
    "    temp.append(df)\n",
    "\n",
    "df = pd.concat(temp, axis=0, ignore_index=True)\n",
    "df.head()"
   ]
  },
  {
   "cell_type": "code",
   "execution_count": 3,
   "metadata": {},
   "outputs": [
    {
     "data": {
      "text/plain": [
       "Service      object\n",
       "Type          int64\n",
       "Rating      float64\n",
       "Hires       float64\n",
       "Price        object\n",
       "Zip Code      int64\n",
       "dtype: object"
      ]
     },
     "execution_count": 3,
     "metadata": {},
     "output_type": "execute_result"
    }
   ],
   "source": [
    "# Check and fix dtype\n",
    "df.dtypes"
   ]
  },
  {
   "cell_type": "code",
   "execution_count": 4,
   "metadata": {
    "scrolled": false
   },
   "outputs": [
    {
     "data": {
      "text/plain": [
       "array([nan, '42/hour', '75/hour', '80/hour', 29.0, 35.0, 45.0, 40.0, 20.0,\n",
       "       30.0, 36.0, 100.0, 120.0, 130.0, 125.0, 50.0, 33.0, 105.0, 80.0],\n",
       "      dtype=object)"
      ]
     },
     "execution_count": 4,
     "metadata": {},
     "output_type": "execute_result"
    }
   ],
   "source": [
    "# See some prices values\n",
    "df['Price'].unique()[:19]\n",
    "\n",
    "# Need to fix that hour thing"
   ]
  },
  {
   "cell_type": "code",
   "execution_count": 5,
   "metadata": {},
   "outputs": [],
   "source": [
    "# Convert price to string\n",
    "df['Price'] = df['Price'].astype(str)\n",
    "\n",
    "# Removed the hour into another column\n",
    "tempPrice = []\n",
    "tempPriceType = []\n",
    "for i in df['Price']:\n",
    "    x = i.split('/')\n",
    "    tempPrice.append(x[0])\n",
    "    if i.find('hour') > 0:\n",
    "        x = 'hourly'\n",
    "    else:\n",
    "        x = NaN\n",
    "    tempPriceType.append(x)\n",
    "\n",
    "# Add it to dataframe and check\n",
    "df['Price'] = tempPrice\n",
    "df['Price Type'] = tempPriceType\n",
    "\n",
    "# Convert price column to float\n",
    "df['Price'] = df['Price'].astype(float)"
   ]
  },
  {
   "cell_type": "code",
   "execution_count": 6,
   "metadata": {},
   "outputs": [
    {
     "data": {
      "text/plain": [
       "Service        object\n",
       "Type            int64\n",
       "Rating        float64\n",
       "Hires         float64\n",
       "Price         float64\n",
       "Zip Code        int64\n",
       "Price Type     object\n",
       "dtype: object"
      ]
     },
     "execution_count": 6,
     "metadata": {},
     "output_type": "execute_result"
    }
   ],
   "source": [
    "# Double check data types\n",
    "df.dtypes"
   ]
  },
  {
   "cell_type": "code",
   "execution_count": 7,
   "metadata": {},
   "outputs": [],
   "source": [
    "# Add the service type from database\n",
    "serviceDf = pd.read_csv('../src/all_services.csv')\n",
    "\n",
    "dfMerge = df.rename(columns={\"Type\":\"ID\"})\n",
    "dfMerge = pd.merge(dfMerge, serviceDf, left_on='ID', right_on='ID', how='left').drop('ID', axis=1)\n",
    "df = dfMerge"
   ]
  },
  {
   "cell_type": "code",
   "execution_count": 8,
   "metadata": {},
   "outputs": [
    {
     "data": {
      "text/plain": [
       "(2261, 9)"
      ]
     },
     "execution_count": 8,
     "metadata": {},
     "output_type": "execute_result"
    }
   ],
   "source": [
    "# See shape\n",
    "df.shape"
   ]
  },
  {
   "cell_type": "code",
   "execution_count": 9,
   "metadata": {},
   "outputs": [
    {
     "data": {
      "text/html": [
       "<div>\n",
       "<style scoped>\n",
       "    .dataframe tbody tr th:only-of-type {\n",
       "        vertical-align: middle;\n",
       "    }\n",
       "\n",
       "    .dataframe tbody tr th {\n",
       "        vertical-align: top;\n",
       "    }\n",
       "\n",
       "    .dataframe thead th {\n",
       "        text-align: right;\n",
       "    }\n",
       "</style>\n",
       "<table border=\"1\" class=\"dataframe\">\n",
       "  <thead>\n",
       "    <tr style=\"text-align: right;\">\n",
       "      <th></th>\n",
       "      <th>Service</th>\n",
       "      <th>Rating</th>\n",
       "      <th>Hires</th>\n",
       "      <th>Price</th>\n",
       "      <th>Zip Code</th>\n",
       "      <th>Price Type</th>\n",
       "      <th>Services</th>\n",
       "      <th>Type</th>\n",
       "      <th>Segments</th>\n",
       "    </tr>\n",
       "  </thead>\n",
       "  <tbody>\n",
       "  </tbody>\n",
       "</table>\n",
       "</div>"
      ],
      "text/plain": [
       "Empty DataFrame\n",
       "Columns: [Service, Rating, Hires, Price, Zip Code, Price Type, Services, Type, Segments]\n",
       "Index: []"
      ]
     },
     "execution_count": 9,
     "metadata": {},
     "output_type": "execute_result"
    }
   ],
   "source": [
    "# Check for duplicates\n",
    "dfDuplicate = df[df.duplicated()]\n",
    "dfDuplicate\n",
    "\n",
    "# Deal with duplicates accordingly if there are any"
   ]
  },
  {
   "cell_type": "code",
   "execution_count": 10,
   "metadata": {},
   "outputs": [
    {
     "data": {
      "text/html": [
       "<div>\n",
       "<style scoped>\n",
       "    .dataframe tbody tr th:only-of-type {\n",
       "        vertical-align: middle;\n",
       "    }\n",
       "\n",
       "    .dataframe tbody tr th {\n",
       "        vertical-align: top;\n",
       "    }\n",
       "\n",
       "    .dataframe thead th {\n",
       "        text-align: right;\n",
       "    }\n",
       "</style>\n",
       "<table border=\"1\" class=\"dataframe\">\n",
       "  <thead>\n",
       "    <tr style=\"text-align: right;\">\n",
       "      <th></th>\n",
       "      <th>Rating</th>\n",
       "      <th>Hires</th>\n",
       "      <th>Price</th>\n",
       "      <th>Zip Code</th>\n",
       "    </tr>\n",
       "  </thead>\n",
       "  <tbody>\n",
       "    <tr>\n",
       "      <th>count</th>\n",
       "      <td>2046.000000</td>\n",
       "      <td>1506.000000</td>\n",
       "      <td>1537.000000</td>\n",
       "      <td>2261.000000</td>\n",
       "    </tr>\n",
       "    <tr>\n",
       "      <th>mean</th>\n",
       "      <td>4.789345</td>\n",
       "      <td>70.660027</td>\n",
       "      <td>86.070917</td>\n",
       "      <td>55896.628925</td>\n",
       "    </tr>\n",
       "    <tr>\n",
       "      <th>std</th>\n",
       "      <td>0.435698</td>\n",
       "      <td>172.822048</td>\n",
       "      <td>55.771631</td>\n",
       "      <td>28576.835538</td>\n",
       "    </tr>\n",
       "    <tr>\n",
       "      <th>min</th>\n",
       "      <td>1.000000</td>\n",
       "      <td>2.000000</td>\n",
       "      <td>1.000000</td>\n",
       "      <td>10007.000000</td>\n",
       "    </tr>\n",
       "    <tr>\n",
       "      <th>25%</th>\n",
       "      <td>4.500000</td>\n",
       "      <td>7.000000</td>\n",
       "      <td>50.000000</td>\n",
       "      <td>30303.000000</td>\n",
       "    </tr>\n",
       "    <tr>\n",
       "      <th>50%</th>\n",
       "      <td>5.000000</td>\n",
       "      <td>19.000000</td>\n",
       "      <td>82.000000</td>\n",
       "      <td>55102.000000</td>\n",
       "    </tr>\n",
       "    <tr>\n",
       "      <th>75%</th>\n",
       "      <td>5.000000</td>\n",
       "      <td>53.000000</td>\n",
       "      <td>102.000000</td>\n",
       "      <td>83702.000000</td>\n",
       "    </tr>\n",
       "    <tr>\n",
       "      <th>max</th>\n",
       "      <td>5.000000</td>\n",
       "      <td>2040.000000</td>\n",
       "      <td>1500.000000</td>\n",
       "      <td>99801.000000</td>\n",
       "    </tr>\n",
       "  </tbody>\n",
       "</table>\n",
       "</div>"
      ],
      "text/plain": [
       "            Rating        Hires        Price      Zip Code\n",
       "count  2046.000000  1506.000000  1537.000000   2261.000000\n",
       "mean      4.789345    70.660027    86.070917  55896.628925\n",
       "std       0.435698   172.822048    55.771631  28576.835538\n",
       "min       1.000000     2.000000     1.000000  10007.000000\n",
       "25%       4.500000     7.000000    50.000000  30303.000000\n",
       "50%       5.000000    19.000000    82.000000  55102.000000\n",
       "75%       5.000000    53.000000   102.000000  83702.000000\n",
       "max       5.000000  2040.000000  1500.000000  99801.000000"
      ]
     },
     "execution_count": 10,
     "metadata": {},
     "output_type": "execute_result"
    }
   ],
   "source": [
    "# See overview of data\n",
    "df.describe()"
   ]
  },
  {
   "cell_type": "code",
   "execution_count": 11,
   "metadata": {
    "scrolled": true
   },
   "outputs": [
    {
     "data": {
      "text/html": [
       "<div>\n",
       "<style scoped>\n",
       "    .dataframe tbody tr th:only-of-type {\n",
       "        vertical-align: middle;\n",
       "    }\n",
       "\n",
       "    .dataframe tbody tr th {\n",
       "        vertical-align: top;\n",
       "    }\n",
       "\n",
       "    .dataframe thead th {\n",
       "        text-align: right;\n",
       "    }\n",
       "</style>\n",
       "<table border=\"1\" class=\"dataframe\">\n",
       "  <thead>\n",
       "    <tr style=\"text-align: right;\">\n",
       "      <th></th>\n",
       "      <th>Services</th>\n",
       "      <th>Count</th>\n",
       "    </tr>\n",
       "  </thead>\n",
       "  <tbody>\n",
       "    <tr>\n",
       "      <th>2</th>\n",
       "      <td>Insulation Installation or Upgrade</td>\n",
       "      <td>828</td>\n",
       "    </tr>\n",
       "    <tr>\n",
       "      <th>1</th>\n",
       "      <td>Hot Tub and Spa Repair</td>\n",
       "      <td>596</td>\n",
       "    </tr>\n",
       "    <tr>\n",
       "      <th>3</th>\n",
       "      <td>Lawn Mower Repair</td>\n",
       "      <td>445</td>\n",
       "    </tr>\n",
       "    <tr>\n",
       "      <th>0</th>\n",
       "      <td>Gutter Repair</td>\n",
       "      <td>356</td>\n",
       "    </tr>\n",
       "    <tr>\n",
       "      <th>4</th>\n",
       "      <td>Roof Installation or Replacement</td>\n",
       "      <td>36</td>\n",
       "    </tr>\n",
       "  </tbody>\n",
       "</table>\n",
       "</div>"
      ],
      "text/plain": [
       "                             Services  Count\n",
       "2  Insulation Installation or Upgrade    828\n",
       "1              Hot Tub and Spa Repair    596\n",
       "3                   Lawn Mower Repair    445\n",
       "0                       Gutter Repair    356\n",
       "4    Roof Installation or Replacement     36"
      ]
     },
     "execution_count": 11,
     "metadata": {},
     "output_type": "execute_result"
    }
   ],
   "source": [
    "# See basic count\n",
    "servicesCount = df.groupby(\"Services\")[\"Services\"].count().to_frame(name=\"Count\").reset_index()\n",
    "servicesCount.sort_values(by=\"Count\", ascending=False)"
   ]
  },
  {
   "cell_type": "code",
   "execution_count": 12,
   "metadata": {},
   "outputs": [],
   "source": [
    "# Get implied revenue\n",
    "df[\"Implied Revenue\"] = df[\"Price\"] * df[\"Hires\"]\n",
    "\n",
    "# Get sum of implied revenue by segment\n",
    "dfRevenuBySegment = df.groupby(\"Segments\")[\"Implied Revenue\"].sum().to_frame(name=\"Implied Revenue\").reset_index()\n",
    "dfRevenuBySegment[\"Contribution\"] = dfRevenuBySegment[\"Implied Revenue\"] / dfRevenuBySegment[\"Implied Revenue\"].sum()\n",
    "\n",
    "# Get sum of implied revenue by services\n",
    "dfRevenuByServices = df.groupby(\"Services\")[\"Implied Revenue\"].sum().to_frame(name=\"Implied Revenue\").reset_index()\n",
    "dfRevenuByServices[\"Contribution\"] = dfRevenuByServices[\"Implied Revenue\"] / dfRevenuByServices[\"Implied Revenue\"].sum()\n",
    "\n",
    "# Get sum of implied revenue by zipcodes\n",
    "dfRevenuByRevenue = df.groupby(\"Zip Code\")[\"Implied Revenue\"].sum().to_frame(name=\"Implied Revenue\").reset_index()\n",
    "dfRevenuByRevenue[\"Contribution\"] = dfRevenuByRevenue[\"Implied Revenue\"] / dfRevenuByRevenue[\"Implied Revenue\"].sum()"
   ]
  },
  {
   "cell_type": "code",
   "execution_count": 13,
   "metadata": {},
   "outputs": [
    {
     "data": {
      "text/html": [
       "<div>\n",
       "<style scoped>\n",
       "    .dataframe tbody tr th:only-of-type {\n",
       "        vertical-align: middle;\n",
       "    }\n",
       "\n",
       "    .dataframe tbody tr th {\n",
       "        vertical-align: top;\n",
       "    }\n",
       "\n",
       "    .dataframe thead th {\n",
       "        text-align: right;\n",
       "    }\n",
       "</style>\n",
       "<table border=\"1\" class=\"dataframe\">\n",
       "  <thead>\n",
       "    <tr style=\"text-align: right;\">\n",
       "      <th></th>\n",
       "      <th>Segments</th>\n",
       "      <th>Implied Revenue</th>\n",
       "      <th>Contribution</th>\n",
       "    </tr>\n",
       "  </thead>\n",
       "  <tbody>\n",
       "    <tr>\n",
       "      <th>0</th>\n",
       "      <td>Home Improvement</td>\n",
       "      <td>6140918.0</td>\n",
       "      <td>1.0</td>\n",
       "    </tr>\n",
       "  </tbody>\n",
       "</table>\n",
       "</div>"
      ],
      "text/plain": [
       "           Segments  Implied Revenue  Contribution\n",
       "0  Home Improvement        6140918.0           1.0"
      ]
     },
     "execution_count": 13,
     "metadata": {},
     "output_type": "execute_result"
    }
   ],
   "source": [
    "dfRevenuBySegment.sort_values(by=\"Contribution\", ascending=False)"
   ]
  },
  {
   "cell_type": "code",
   "execution_count": 14,
   "metadata": {
    "scrolled": true
   },
   "outputs": [
    {
     "data": {
      "text/html": [
       "<div>\n",
       "<style scoped>\n",
       "    .dataframe tbody tr th:only-of-type {\n",
       "        vertical-align: middle;\n",
       "    }\n",
       "\n",
       "    .dataframe tbody tr th {\n",
       "        vertical-align: top;\n",
       "    }\n",
       "\n",
       "    .dataframe thead th {\n",
       "        text-align: right;\n",
       "    }\n",
       "</style>\n",
       "<table border=\"1\" class=\"dataframe\">\n",
       "  <thead>\n",
       "    <tr style=\"text-align: right;\">\n",
       "      <th></th>\n",
       "      <th>Services</th>\n",
       "      <th>Implied Revenue</th>\n",
       "      <th>Contribution</th>\n",
       "    </tr>\n",
       "  </thead>\n",
       "  <tbody>\n",
       "    <tr>\n",
       "      <th>1</th>\n",
       "      <td>Hot Tub and Spa Repair</td>\n",
       "      <td>2750469.0</td>\n",
       "      <td>0.447892</td>\n",
       "    </tr>\n",
       "    <tr>\n",
       "      <th>0</th>\n",
       "      <td>Gutter Repair</td>\n",
       "      <td>1570004.0</td>\n",
       "      <td>0.255663</td>\n",
       "    </tr>\n",
       "    <tr>\n",
       "      <th>3</th>\n",
       "      <td>Lawn Mower Repair</td>\n",
       "      <td>1187134.0</td>\n",
       "      <td>0.193315</td>\n",
       "    </tr>\n",
       "    <tr>\n",
       "      <th>2</th>\n",
       "      <td>Insulation Installation or Upgrade</td>\n",
       "      <td>633311.0</td>\n",
       "      <td>0.103130</td>\n",
       "    </tr>\n",
       "    <tr>\n",
       "      <th>4</th>\n",
       "      <td>Roof Installation or Replacement</td>\n",
       "      <td>0.0</td>\n",
       "      <td>0.000000</td>\n",
       "    </tr>\n",
       "  </tbody>\n",
       "</table>\n",
       "</div>"
      ],
      "text/plain": [
       "                             Services  Implied Revenue  Contribution\n",
       "1              Hot Tub and Spa Repair        2750469.0      0.447892\n",
       "0                       Gutter Repair        1570004.0      0.255663\n",
       "3                   Lawn Mower Repair        1187134.0      0.193315\n",
       "2  Insulation Installation or Upgrade         633311.0      0.103130\n",
       "4    Roof Installation or Replacement              0.0      0.000000"
      ]
     },
     "execution_count": 14,
     "metadata": {},
     "output_type": "execute_result"
    }
   ],
   "source": [
    "dfRevenuByServices.sort_values(by=\"Contribution\", ascending=False)"
   ]
  },
  {
   "cell_type": "code",
   "execution_count": 15,
   "metadata": {},
   "outputs": [
    {
     "data": {
      "text/html": [
       "<div>\n",
       "<style scoped>\n",
       "    .dataframe tbody tr th:only-of-type {\n",
       "        vertical-align: middle;\n",
       "    }\n",
       "\n",
       "    .dataframe tbody tr th {\n",
       "        vertical-align: top;\n",
       "    }\n",
       "\n",
       "    .dataframe thead th {\n",
       "        text-align: right;\n",
       "    }\n",
       "</style>\n",
       "<table border=\"1\" class=\"dataframe\">\n",
       "  <thead>\n",
       "    <tr style=\"text-align: right;\">\n",
       "      <th></th>\n",
       "      <th>Zip Code</th>\n",
       "      <th>Implied Revenue</th>\n",
       "      <th>Contribution</th>\n",
       "    </tr>\n",
       "  </thead>\n",
       "  <tbody>\n",
       "    <tr>\n",
       "      <th>67</th>\n",
       "      <td>94108</td>\n",
       "      <td>399690.0</td>\n",
       "      <td>0.065086</td>\n",
       "    </tr>\n",
       "    <tr>\n",
       "      <th>7</th>\n",
       "      <td>20001</td>\n",
       "      <td>351988.0</td>\n",
       "      <td>0.057318</td>\n",
       "    </tr>\n",
       "    <tr>\n",
       "      <th>52</th>\n",
       "      <td>75207</td>\n",
       "      <td>337763.0</td>\n",
       "      <td>0.055002</td>\n",
       "    </tr>\n",
       "    <tr>\n",
       "      <th>68</th>\n",
       "      <td>95112</td>\n",
       "      <td>310742.0</td>\n",
       "      <td>0.050602</td>\n",
       "    </tr>\n",
       "    <tr>\n",
       "      <th>53</th>\n",
       "      <td>77002</td>\n",
       "      <td>302216.0</td>\n",
       "      <td>0.049213</td>\n",
       "    </tr>\n",
       "    <tr>\n",
       "      <th>...</th>\n",
       "      <td>...</td>\n",
       "      <td>...</td>\n",
       "      <td>...</td>\n",
       "    </tr>\n",
       "    <tr>\n",
       "      <th>36</th>\n",
       "      <td>57103</td>\n",
       "      <td>1620.0</td>\n",
       "      <td>0.000264</td>\n",
       "    </tr>\n",
       "    <tr>\n",
       "      <th>37</th>\n",
       "      <td>58102</td>\n",
       "      <td>1204.0</td>\n",
       "      <td>0.000196</td>\n",
       "    </tr>\n",
       "    <tr>\n",
       "      <th>38</th>\n",
       "      <td>58501</td>\n",
       "      <td>0.0</td>\n",
       "      <td>0.000000</td>\n",
       "    </tr>\n",
       "    <tr>\n",
       "      <th>39</th>\n",
       "      <td>59623</td>\n",
       "      <td>0.0</td>\n",
       "      <td>0.000000</td>\n",
       "    </tr>\n",
       "    <tr>\n",
       "      <th>76</th>\n",
       "      <td>99801</td>\n",
       "      <td>0.0</td>\n",
       "      <td>0.000000</td>\n",
       "    </tr>\n",
       "  </tbody>\n",
       "</table>\n",
       "<p>77 rows × 3 columns</p>\n",
       "</div>"
      ],
      "text/plain": [
       "    Zip Code  Implied Revenue  Contribution\n",
       "67     94108         399690.0      0.065086\n",
       "7      20001         351988.0      0.057318\n",
       "52     75207         337763.0      0.055002\n",
       "68     95112         310742.0      0.050602\n",
       "53     77002         302216.0      0.049213\n",
       "..       ...              ...           ...\n",
       "36     57103           1620.0      0.000264\n",
       "37     58102           1204.0      0.000196\n",
       "38     58501              0.0      0.000000\n",
       "39     59623              0.0      0.000000\n",
       "76     99801              0.0      0.000000\n",
       "\n",
       "[77 rows x 3 columns]"
      ]
     },
     "execution_count": 15,
     "metadata": {},
     "output_type": "execute_result"
    }
   ],
   "source": [
    "dfRevenuByRevenue.sort_values(by=\"Contribution\", ascending=False)"
   ]
  },
  {
   "cell_type": "code",
   "execution_count": 16,
   "metadata": {},
   "outputs": [],
   "source": [
    "df.to_csv(\"all_services.csv\")"
   ]
  }
 ],
 "metadata": {
  "interpreter": {
   "hash": "c813680251bd8d0b07ad960ec3c16e45dc93400328438a85d36d0d2a96ed0efa"
  },
  "kernelspec": {
   "display_name": "Python 3 (ipykernel)",
   "language": "python",
   "name": "python3"
  },
  "language_info": {
   "codemirror_mode": {
    "name": "ipython",
    "version": 3
   },
   "file_extension": ".py",
   "mimetype": "text/x-python",
   "name": "python",
   "nbconvert_exporter": "python",
   "pygments_lexer": "ipython3",
   "version": "3.9.5"
  }
 },
 "nbformat": 4,
 "nbformat_minor": 2
}
