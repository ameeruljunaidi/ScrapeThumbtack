{
 "cells": [
  {
   "cell_type": "code",
   "execution_count": 49,
   "metadata": {
    "scrolled": true
   },
   "outputs": [
    {
     "data": {
      "text/html": [
       "<div>\n",
       "<style scoped>\n",
       "    .dataframe tbody tr th:only-of-type {\n",
       "        vertical-align: middle;\n",
       "    }\n",
       "\n",
       "    .dataframe tbody tr th {\n",
       "        vertical-align: top;\n",
       "    }\n",
       "\n",
       "    .dataframe thead th {\n",
       "        text-align: right;\n",
       "    }\n",
       "</style>\n",
       "<table border=\"1\" class=\"dataframe\">\n",
       "  <thead>\n",
       "    <tr style=\"text-align: right;\">\n",
       "      <th></th>\n",
       "      <th>Segments</th>\n",
       "      <th>Services</th>\n",
       "      <th>Type</th>\n",
       "      <th>Service</th>\n",
       "      <th>Hires</th>\n",
       "      <th>Price</th>\n",
       "      <th>Price Type</th>\n",
       "      <th>Rating</th>\n",
       "      <th>Zip Code</th>\n",
       "      <th>Capital City</th>\n",
       "      <th>State</th>\n",
       "      <th>Abbreviation</th>\n",
       "      <th>Implied Revenue</th>\n",
       "    </tr>\n",
       "  </thead>\n",
       "  <tbody>\n",
       "    <tr>\n",
       "      <th>56626</th>\n",
       "      <td>Events</td>\n",
       "      <td>Wedding Officiant</td>\n",
       "      <td>Main</td>\n",
       "      <td>Sharon Fleer Weddings</td>\n",
       "      <td>NaN</td>\n",
       "      <td>100.00</td>\n",
       "      <td>NaN</td>\n",
       "      <td>5.00</td>\n",
       "      <td>23454</td>\n",
       "      <td>Virginia Beach</td>\n",
       "      <td>Virginia</td>\n",
       "      <td>VA</td>\n",
       "      <td>NaN</td>\n",
       "    </tr>\n",
       "    <tr>\n",
       "      <th>1</th>\n",
       "      <td>Home Improvement</td>\n",
       "      <td>Brick or Stone Repair</td>\n",
       "      <td>Peripheral</td>\n",
       "      <td>Emi Ferreira Masonry</td>\n",
       "      <td>72.00</td>\n",
       "      <td>NaN</td>\n",
       "      <td>NaN</td>\n",
       "      <td>5.00</td>\n",
       "      <td>2903</td>\n",
       "      <td>Providence</td>\n",
       "      <td>Rhode Island</td>\n",
       "      <td>RI</td>\n",
       "      <td>NaN</td>\n",
       "    </tr>\n",
       "    <tr>\n",
       "      <th>25329</th>\n",
       "      <td>Home Improvement</td>\n",
       "      <td>Appliance Repair or Maintenance</td>\n",
       "      <td>Peripheral</td>\n",
       "      <td>KC Home Appliance Repair</td>\n",
       "      <td>192.00</td>\n",
       "      <td>80.00</td>\n",
       "      <td>service</td>\n",
       "      <td>5.00</td>\n",
       "      <td>30303</td>\n",
       "      <td>Atlanta</td>\n",
       "      <td>Georgia</td>\n",
       "      <td>GA</td>\n",
       "      <td>15,360.00</td>\n",
       "    </tr>\n",
       "    <tr>\n",
       "      <th>35916</th>\n",
       "      <td>Wellness</td>\n",
       "      <td>Personal Training</td>\n",
       "      <td>Main</td>\n",
       "      <td>Fast Pace Personal Training inc.</td>\n",
       "      <td>89.00</td>\n",
       "      <td>85.00</td>\n",
       "      <td>NaN</td>\n",
       "      <td>5.00</td>\n",
       "      <td>95112</td>\n",
       "      <td>San Jose</td>\n",
       "      <td>California</td>\n",
       "      <td>CA</td>\n",
       "      <td>7,565.00</td>\n",
       "    </tr>\n",
       "    <tr>\n",
       "      <th>65570</th>\n",
       "      <td>Home Improvement</td>\n",
       "      <td>Interior Design</td>\n",
       "      <td>Main</td>\n",
       "      <td>DD Designs</td>\n",
       "      <td>NaN</td>\n",
       "      <td>125.00</td>\n",
       "      <td>hour</td>\n",
       "      <td>5.00</td>\n",
       "      <td>33132</td>\n",
       "      <td>Miami</td>\n",
       "      <td>Florida</td>\n",
       "      <td>FL</td>\n",
       "      <td>NaN</td>\n",
       "    </tr>\n",
       "  </tbody>\n",
       "</table>\n",
       "</div>"
      ],
      "text/plain": [
       "               Segments                         Services        Type  \\\n",
       "56626            Events                Wedding Officiant        Main   \n",
       "1      Home Improvement            Brick or Stone Repair  Peripheral   \n",
       "25329  Home Improvement  Appliance Repair or Maintenance  Peripheral   \n",
       "35916          Wellness                Personal Training        Main   \n",
       "65570  Home Improvement                  Interior Design        Main   \n",
       "\n",
       "                                Service  Hires  Price Price Type  Rating  \\\n",
       "56626             Sharon Fleer Weddings    NaN 100.00        NaN    5.00   \n",
       "1                  Emi Ferreira Masonry  72.00    NaN        NaN    5.00   \n",
       "25329          KC Home Appliance Repair 192.00  80.00    service    5.00   \n",
       "35916  Fast Pace Personal Training inc.  89.00  85.00        NaN    5.00   \n",
       "65570                        DD Designs    NaN 125.00       hour    5.00   \n",
       "\n",
       "       Zip Code    Capital City         State Abbreviation  Implied Revenue  \n",
       "56626     23454  Virginia Beach      Virginia           VA              NaN  \n",
       "1          2903      Providence  Rhode Island           RI              NaN  \n",
       "25329     30303         Atlanta       Georgia           GA        15,360.00  \n",
       "35916     95112        San Jose    California           CA         7,565.00  \n",
       "65570     33132           Miami       Florida           FL              NaN  "
      ]
     },
     "execution_count": 49,
     "metadata": {},
     "output_type": "execute_result"
    }
   ],
   "source": [
    "import pandas as pd\n",
    "import numpy as np\n",
    "from numpy import NaN\n",
    "import matplotlib\n",
    "import matplotlib.pyplot as plt\n",
    "import warnings\n",
    "\n",
    "warnings.filterwarnings('ignore')\n",
    "\n",
    "pd.options.display.float_format = '{:,.2f}'.format\n",
    "pd.set_option('mode.chained_assignment', None)\n",
    "\n",
    "df = pd.read_csv(\"../output/all_services.csv\", index_col=0, header=0, thousands=',')\n",
    "df.sample(5)"
   ]
  },
  {
   "cell_type": "code",
   "execution_count": 50,
   "metadata": {},
   "outputs": [
    {
     "data": {
      "text/plain": [
       "(14656, 13)"
      ]
     },
     "execution_count": 50,
     "metadata": {},
     "output_type": "execute_result"
    }
   ],
   "source": [
    "df.shape"
   ]
  },
  {
   "cell_type": "markdown",
   "metadata": {},
   "source": [
    "**General quetions:**\n",
    "1. Which segments is Thumbtack focusing on? Or is Thumbtack consistent in all segments & services?\n",
    "2. Does the demand & supply in services change from a region to another?\n",
    "3. Which segments are doing better or worse?\n",
    "4. Is Thumbtack offering this many services because they have a low # hires/# sellers rate?\n",
    "5. Are there any segments or services that showcase more uncaptured potential?\n",
    "6. What types of sellers are the most successful? Individuals or business? Does it depend on the type of service and/or region?"
   ]
  },
  {
   "cell_type": "markdown",
   "metadata": {},
   "source": [
    "**1. Which segments is Thumbtack focusing on?**\n",
    "\n",
    "We can first see a basic count of services for each segment"
   ]
  },
  {
   "cell_type": "code",
   "execution_count": 51,
   "metadata": {},
   "outputs": [
    {
     "data": {
      "text/html": [
       "<div>\n",
       "<style scoped>\n",
       "    .dataframe tbody tr th:only-of-type {\n",
       "        vertical-align: middle;\n",
       "    }\n",
       "\n",
       "    .dataframe tbody tr th {\n",
       "        vertical-align: top;\n",
       "    }\n",
       "\n",
       "    .dataframe thead th {\n",
       "        text-align: right;\n",
       "    }\n",
       "</style>\n",
       "<table border=\"1\" class=\"dataframe\">\n",
       "  <thead>\n",
       "    <tr style=\"text-align: right;\">\n",
       "      <th></th>\n",
       "      <th>Segments</th>\n",
       "      <th>Count</th>\n",
       "      <th>Contribution</th>\n",
       "    </tr>\n",
       "  </thead>\n",
       "  <tbody>\n",
       "    <tr>\n",
       "      <th>2</th>\n",
       "      <td>Home Improvement</td>\n",
       "      <td>6283</td>\n",
       "      <td>0.43</td>\n",
       "    </tr>\n",
       "    <tr>\n",
       "      <th>1</th>\n",
       "      <td>Events</td>\n",
       "      <td>3488</td>\n",
       "      <td>0.24</td>\n",
       "    </tr>\n",
       "    <tr>\n",
       "      <th>5</th>\n",
       "      <td>Wellness</td>\n",
       "      <td>1596</td>\n",
       "      <td>0.11</td>\n",
       "    </tr>\n",
       "    <tr>\n",
       "      <th>3</th>\n",
       "      <td>Lessons</td>\n",
       "      <td>1494</td>\n",
       "      <td>0.10</td>\n",
       "    </tr>\n",
       "    <tr>\n",
       "      <th>0</th>\n",
       "      <td>Business</td>\n",
       "      <td>1256</td>\n",
       "      <td>0.09</td>\n",
       "    </tr>\n",
       "    <tr>\n",
       "      <th>4</th>\n",
       "      <td>Pets</td>\n",
       "      <td>539</td>\n",
       "      <td>0.04</td>\n",
       "    </tr>\n",
       "  </tbody>\n",
       "</table>\n",
       "</div>"
      ],
      "text/plain": [
       "           Segments  Count  Contribution\n",
       "2  Home Improvement   6283          0.43\n",
       "1            Events   3488          0.24\n",
       "5          Wellness   1596          0.11\n",
       "3           Lessons   1494          0.10\n",
       "0          Business   1256          0.09\n",
       "4              Pets    539          0.04"
      ]
     },
     "execution_count": 51,
     "metadata": {},
     "output_type": "execute_result"
    }
   ],
   "source": [
    "# See ranking by count\n",
    "segmentCount = df.groupby(\"Segments\")[\"Segments\"].count()\n",
    "dfSegmentCount = segmentCount.to_frame(name=\"Count\").reset_index()\n",
    "dfSegmentCount[\n",
    "    \"Contribution\"] = dfSegmentCount[\"Count\"] / dfSegmentCount[\"Count\"].sum()\n",
    "dfSegmentCount.sort_values(by=\"Count\", ascending=False)"
   ]
  },
  {
   "cell_type": "code",
   "execution_count": 52,
   "metadata": {},
   "outputs": [
    {
     "data": {
      "image/png": "[encoded data removed]",
      "text/plain": [
       "<Figure size 432x288 with 1 Axes>"
      ]
     },
     "metadata": {
      "needs_background": "light"
     },
     "output_type": "display_data"
    },
    {
     "data": {
      "image/png": "[encoded data removed]",
      "text/plain": [
       "<Figure size 432x432 with 1 Axes>"
      ]
     },
     "metadata": {},
     "output_type": "display_data"
    }
   ],
   "source": [
    "segmentCount.sort_values(ascending=False).plot.bar(title=\"Count of Services by Segment\", )\n",
    "current_values = plt.gca().get_yticks()\n",
    "plt.gca().set_yticklabels(['{:,.0f}'.format(x) for x in current_values])\n",
    "plt.show()\n",
    "\n",
    "segmentCount.plot.pie(autopct=\"%.1f%%\",\n",
    "    title=\"Count of Services By Segments\",\n",
    "    y=\"Count\",\n",
    "    ylabel=\"\",\n",
    "    figsize=(6, 6))\n",
    "plt.show()"
   ]
  },
  {
   "cell_type": "code",
   "execution_count": 53,
   "metadata": {},
   "outputs": [
    {
     "data": {
      "text/html": [
       "<div>\n",
       "<style scoped>\n",
       "    .dataframe tbody tr th:only-of-type {\n",
       "        vertical-align: middle;\n",
       "    }\n",
       "\n",
       "    .dataframe tbody tr th {\n",
       "        vertical-align: top;\n",
       "    }\n",
       "\n",
       "    .dataframe thead th {\n",
       "        text-align: right;\n",
       "    }\n",
       "</style>\n",
       "<table border=\"1\" class=\"dataframe\">\n",
       "  <thead>\n",
       "    <tr style=\"text-align: right;\">\n",
       "      <th></th>\n",
       "      <th>Services</th>\n",
       "      <th>Count</th>\n",
       "      <th>Contribution</th>\n",
       "    </tr>\n",
       "  </thead>\n",
       "  <tbody>\n",
       "    <tr>\n",
       "      <th>52</th>\n",
       "      <td>Roof Repair or Maintenance</td>\n",
       "      <td>874</td>\n",
       "      <td>0.06</td>\n",
       "    </tr>\n",
       "    <tr>\n",
       "      <th>67</th>\n",
       "      <td>Wedding Officiant</td>\n",
       "      <td>839</td>\n",
       "      <td>0.06</td>\n",
       "    </tr>\n",
       "    <tr>\n",
       "      <th>1</th>\n",
       "      <td>Accounting</td>\n",
       "      <td>793</td>\n",
       "      <td>0.05</td>\n",
       "    </tr>\n",
       "    <tr>\n",
       "      <th>69</th>\n",
       "      <td>Wedding and Event Makeup</td>\n",
       "      <td>712</td>\n",
       "      <td>0.05</td>\n",
       "    </tr>\n",
       "    <tr>\n",
       "      <th>37</th>\n",
       "      <td>Massage Therapy</td>\n",
       "      <td>698</td>\n",
       "      <td>0.05</td>\n",
       "    </tr>\n",
       "    <tr>\n",
       "      <th>28</th>\n",
       "      <td>DJ</td>\n",
       "      <td>684</td>\n",
       "      <td>0.05</td>\n",
       "    </tr>\n",
       "    <tr>\n",
       "      <th>33</th>\n",
       "      <td>Interior Design</td>\n",
       "      <td>650</td>\n",
       "      <td>0.04</td>\n",
       "    </tr>\n",
       "    <tr>\n",
       "      <th>32</th>\n",
       "      <td>House Cleaning</td>\n",
       "      <td>603</td>\n",
       "      <td>0.04</td>\n",
       "    </tr>\n",
       "    <tr>\n",
       "      <th>68</th>\n",
       "      <td>Wedding and Event Catering</td>\n",
       "      <td>506</td>\n",
       "      <td>0.03</td>\n",
       "    </tr>\n",
       "  </tbody>\n",
       "</table>\n",
       "</div>"
      ],
      "text/plain": [
       "                      Services  Count  Contribution\n",
       "52  Roof Repair or Maintenance    874          0.06\n",
       "67           Wedding Officiant    839          0.06\n",
       "1                   Accounting    793          0.05\n",
       "69    Wedding and Event Makeup    712          0.05\n",
       "37             Massage Therapy    698          0.05\n",
       "28                          DJ    684          0.05\n",
       "33             Interior Design    650          0.04\n",
       "32              House Cleaning    603          0.04\n",
       "68  Wedding and Event Catering    506          0.03"
      ]
     },
     "execution_count": 53,
     "metadata": {},
     "output_type": "execute_result"
    }
   ],
   "source": [
    "# See ranking by count\n",
    "servicesCount = df.groupby(\"Services\")[\"Services\"].count()\n",
    "dfServicesCount = servicesCount.to_frame(name=\"Count\").reset_index()\n",
    "dfServicesCount[\n",
    "    \"Contribution\"] = dfServicesCount[\"Count\"] / dfServicesCount[\"Count\"].sum()\n",
    "dfServicesCount.sort_values(by=\"Count\", ascending=False)[:9]"
   ]
  },
  {
   "cell_type": "code",
   "execution_count": 54,
   "metadata": {},
   "outputs": [
    {
     "data": {
      "image/png": "[encoded data removed]",
      "text/plain": [
       "<Figure size 432x288 with 1 Axes>"
      ]
     },
     "metadata": {
      "needs_background": "light"
     },
     "output_type": "display_data"
    },
    {
     "data": {
      "image/png": "[encoded data removed]",
      "text/plain": [
       "<Figure size 432x432 with 1 Axes>"
      ]
     },
     "metadata": {},
     "output_type": "display_data"
    }
   ],
   "source": [
    "servicesCountChart = servicesCount[:19]\n",
    "servicesCountChart.sort_values(ascending=False).plot.bar(title=\"Count of Services by Top 20 Service\", )\n",
    "current_values = plt.gca().get_yticks()\n",
    "plt.gca().set_yticklabels(['{:,.0f}'.format(x) for x in current_values])\n",
    "plt.show()\n",
    "\n",
    "servicesCountChart.plot.pie(autopct=\"%.1f%%\",\n",
    "    title=\"Count of Services By Top 20 Services\",\n",
    "    y=\"Count\",\n",
    "    ylabel=\"\",\n",
    "    figsize=(6, 6))\n",
    "plt.show()"
   ]
  },
  {
   "cell_type": "markdown",
   "metadata": {},
   "source": [
    "Then we can maybe see implied revenue from these segments"
   ]
  },
  {
   "cell_type": "code",
   "execution_count": 55,
   "metadata": {},
   "outputs": [],
   "source": [
    "# Get sum of implied revenue by segment\n",
    "dfRevenuBySegment = df.groupby(\"Segments\")[\"Implied Revenue\"].sum().to_frame(\n",
    "    name=\"Implied Revenue\").reset_index()\n",
    "dfRevenuBySegment[\"Contribution\"] = dfRevenuBySegment[\n",
    "    \"Implied Revenue\"] / dfRevenuBySegment[\"Implied Revenue\"].sum()\n",
    "\n",
    "# Get sum of implied revenue by services\n",
    "dfRevenuByServices = df.groupby(\"Services\")[\"Implied Revenue\"].sum().to_frame(\n",
    "    name=\"Implied Revenue\").reset_index()\n",
    "dfRevenuByServices[\"Contribution\"] = dfRevenuByServices[\n",
    "    \"Implied Revenue\"] / dfRevenuByServices[\"Implied Revenue\"].sum()\n",
    "\n",
    "# Get sum of implied revenue by states\n",
    "dfRevenuByRevenue = df.groupby(\"State\")[\"Implied Revenue\"].sum().to_frame(\n",
    "    name=\"Implied Revenue\").reset_index()\n",
    "dfRevenuByRevenue[\"Contribution\"] = dfRevenuByRevenue[\n",
    "    \"Implied Revenue\"] / dfRevenuByRevenue[\"Implied Revenue\"].sum()"
   ]
  },
  {
   "cell_type": "code",
   "execution_count": 60,
   "metadata": {},
   "outputs": [
    {
     "data": {
      "text/html": [
       "<div>\n",
       "<style scoped>\n",
       "    .dataframe tbody tr th:only-of-type {\n",
       "        vertical-align: middle;\n",
       "    }\n",
       "\n",
       "    .dataframe tbody tr th {\n",
       "        vertical-align: top;\n",
       "    }\n",
       "\n",
       "    .dataframe thead th {\n",
       "        text-align: right;\n",
       "    }\n",
       "</style>\n",
       "<table border=\"1\" class=\"dataframe\">\n",
       "  <thead>\n",
       "    <tr style=\"text-align: right;\">\n",
       "      <th></th>\n",
       "      <th>Segments</th>\n",
       "      <th>Implied Revenue</th>\n",
       "      <th>Contribution</th>\n",
       "    </tr>\n",
       "  </thead>\n",
       "  <tbody>\n",
       "    <tr>\n",
       "      <th>1</th>\n",
       "      <td>Events</td>\n",
       "      <td>21,771,730.00</td>\n",
       "      <td>0.46</td>\n",
       "    </tr>\n",
       "    <tr>\n",
       "      <th>2</th>\n",
       "      <td>Home Improvement</td>\n",
       "      <td>15,242,676.00</td>\n",
       "      <td>0.32</td>\n",
       "    </tr>\n",
       "    <tr>\n",
       "      <th>0</th>\n",
       "      <td>Business</td>\n",
       "      <td>4,122,663.00</td>\n",
       "      <td>0.09</td>\n",
       "    </tr>\n",
       "    <tr>\n",
       "      <th>5</th>\n",
       "      <td>Wellness</td>\n",
       "      <td>3,569,506.00</td>\n",
       "      <td>0.08</td>\n",
       "    </tr>\n",
       "    <tr>\n",
       "      <th>3</th>\n",
       "      <td>Lessons</td>\n",
       "      <td>2,174,409.00</td>\n",
       "      <td>0.05</td>\n",
       "    </tr>\n",
       "    <tr>\n",
       "      <th>4</th>\n",
       "      <td>Pets</td>\n",
       "      <td>307,021.00</td>\n",
       "      <td>0.01</td>\n",
       "    </tr>\n",
       "  </tbody>\n",
       "</table>\n",
       "</div>"
      ],
      "text/plain": [
       "           Segments  Implied Revenue  Contribution\n",
       "1            Events    21,771,730.00          0.46\n",
       "2  Home Improvement    15,242,676.00          0.32\n",
       "0          Business     4,122,663.00          0.09\n",
       "5          Wellness     3,569,506.00          0.08\n",
       "3           Lessons     2,174,409.00          0.05\n",
       "4              Pets       307,021.00          0.01"
      ]
     },
     "execution_count": 60,
     "metadata": {},
     "output_type": "execute_result"
    }
   ],
   "source": [
    "# See implied revenue by segment\n",
    "dfRevenuBySegment.sort_values(by=\"Contribution\", ascending=False)"
   ]
  },
  {
   "cell_type": "code",
   "execution_count": 57,
   "metadata": {},
   "outputs": [
    {
     "data": {
      "text/html": [
       "<div>\n",
       "<style scoped>\n",
       "    .dataframe tbody tr th:only-of-type {\n",
       "        vertical-align: middle;\n",
       "    }\n",
       "\n",
       "    .dataframe tbody tr th {\n",
       "        vertical-align: top;\n",
       "    }\n",
       "\n",
       "    .dataframe thead th {\n",
       "        text-align: right;\n",
       "    }\n",
       "</style>\n",
       "<table border=\"1\" class=\"dataframe\">\n",
       "  <thead>\n",
       "    <tr style=\"text-align: right;\">\n",
       "      <th></th>\n",
       "      <th>Services</th>\n",
       "      <th>Implied Revenue</th>\n",
       "      <th>Contribution</th>\n",
       "    </tr>\n",
       "  </thead>\n",
       "  <tbody>\n",
       "    <tr>\n",
       "      <th>67</th>\n",
       "      <td>Wedding Officiant</td>\n",
       "      <td>9,046,401.00</td>\n",
       "      <td>0.19</td>\n",
       "    </tr>\n",
       "    <tr>\n",
       "      <th>28</th>\n",
       "      <td>DJ</td>\n",
       "      <td>5,589,660.00</td>\n",
       "      <td>0.12</td>\n",
       "    </tr>\n",
       "    <tr>\n",
       "      <th>42</th>\n",
       "      <td>Photo Booth Rental</td>\n",
       "      <td>3,617,129.00</td>\n",
       "      <td>0.08</td>\n",
       "    </tr>\n",
       "    <tr>\n",
       "      <th>14</th>\n",
       "      <td>Bed Bug Extermination</td>\n",
       "      <td>3,336,025.00</td>\n",
       "      <td>0.07</td>\n",
       "    </tr>\n",
       "    <tr>\n",
       "      <th>21</th>\n",
       "      <td>Carpet Cleaning</td>\n",
       "      <td>2,453,514.00</td>\n",
       "      <td>0.05</td>\n",
       "    </tr>\n",
       "    <tr>\n",
       "      <th>32</th>\n",
       "      <td>House Cleaning</td>\n",
       "      <td>2,253,694.00</td>\n",
       "      <td>0.05</td>\n",
       "    </tr>\n",
       "    <tr>\n",
       "      <th>37</th>\n",
       "      <td>Massage Therapy</td>\n",
       "      <td>2,156,358.00</td>\n",
       "      <td>0.05</td>\n",
       "    </tr>\n",
       "    <tr>\n",
       "      <th>69</th>\n",
       "      <td>Wedding and Event Makeup</td>\n",
       "      <td>1,802,999.00</td>\n",
       "      <td>0.04</td>\n",
       "    </tr>\n",
       "    <tr>\n",
       "      <th>3</th>\n",
       "      <td>Appliance Installation</td>\n",
       "      <td>1,377,212.00</td>\n",
       "      <td>0.03</td>\n",
       "    </tr>\n",
       "  </tbody>\n",
       "</table>\n",
       "</div>"
      ],
      "text/plain": [
       "                    Services  Implied Revenue  Contribution\n",
       "67         Wedding Officiant     9,046,401.00          0.19\n",
       "28                        DJ     5,589,660.00          0.12\n",
       "42        Photo Booth Rental     3,617,129.00          0.08\n",
       "14     Bed Bug Extermination     3,336,025.00          0.07\n",
       "21           Carpet Cleaning     2,453,514.00          0.05\n",
       "32            House Cleaning     2,253,694.00          0.05\n",
       "37           Massage Therapy     2,156,358.00          0.05\n",
       "69  Wedding and Event Makeup     1,802,999.00          0.04\n",
       "3     Appliance Installation     1,377,212.00          0.03"
      ]
     },
     "execution_count": 57,
     "metadata": {},
     "output_type": "execute_result"
    }
   ],
   "source": [
    "# See top 10 implied revenue by services\n",
    "dfRevenuByServices.sort_values(by=\"Contribution\", ascending=False)[:9]"
   ]
  },
  {
   "cell_type": "code",
   "execution_count": 58,
   "metadata": {},
   "outputs": [
    {
     "data": {
      "text/html": [
       "<div>\n",
       "<style scoped>\n",
       "    .dataframe tbody tr th:only-of-type {\n",
       "        vertical-align: middle;\n",
       "    }\n",
       "\n",
       "    .dataframe tbody tr th {\n",
       "        vertical-align: top;\n",
       "    }\n",
       "\n",
       "    .dataframe thead th {\n",
       "        text-align: right;\n",
       "    }\n",
       "</style>\n",
       "<table border=\"1\" class=\"dataframe\">\n",
       "  <thead>\n",
       "    <tr style=\"text-align: right;\">\n",
       "      <th></th>\n",
       "      <th>State</th>\n",
       "      <th>Implied Revenue</th>\n",
       "      <th>Contribution</th>\n",
       "    </tr>\n",
       "  </thead>\n",
       "  <tbody>\n",
       "    <tr>\n",
       "      <th>4</th>\n",
       "      <td>California</td>\n",
       "      <td>6,658,955.00</td>\n",
       "      <td>0.14</td>\n",
       "    </tr>\n",
       "    <tr>\n",
       "      <th>43</th>\n",
       "      <td>Texas</td>\n",
       "      <td>4,587,978.00</td>\n",
       "      <td>0.10</td>\n",
       "    </tr>\n",
       "    <tr>\n",
       "      <th>9</th>\n",
       "      <td>Florida</td>\n",
       "      <td>3,089,897.00</td>\n",
       "      <td>0.07</td>\n",
       "    </tr>\n",
       "    <tr>\n",
       "      <th>30</th>\n",
       "      <td>New Jersey</td>\n",
       "      <td>2,658,437.00</td>\n",
       "      <td>0.06</td>\n",
       "    </tr>\n",
       "    <tr>\n",
       "      <th>32</th>\n",
       "      <td>New York</td>\n",
       "      <td>1,886,627.00</td>\n",
       "      <td>0.04</td>\n",
       "    </tr>\n",
       "    <tr>\n",
       "      <th>25</th>\n",
       "      <td>Missouri</td>\n",
       "      <td>1,669,121.00</td>\n",
       "      <td>0.04</td>\n",
       "    </tr>\n",
       "    <tr>\n",
       "      <th>10</th>\n",
       "      <td>Georgia</td>\n",
       "      <td>1,660,489.00</td>\n",
       "      <td>0.04</td>\n",
       "    </tr>\n",
       "    <tr>\n",
       "      <th>20</th>\n",
       "      <td>Maryland</td>\n",
       "      <td>1,528,212.00</td>\n",
       "      <td>0.03</td>\n",
       "    </tr>\n",
       "    <tr>\n",
       "      <th>13</th>\n",
       "      <td>Illinois</td>\n",
       "      <td>1,478,376.00</td>\n",
       "      <td>0.03</td>\n",
       "    </tr>\n",
       "  </tbody>\n",
       "</table>\n",
       "</div>"
      ],
      "text/plain": [
       "         State  Implied Revenue  Contribution\n",
       "4   California     6,658,955.00          0.14\n",
       "43       Texas     4,587,978.00          0.10\n",
       "9      Florida     3,089,897.00          0.07\n",
       "30  New Jersey     2,658,437.00          0.06\n",
       "32    New York     1,886,627.00          0.04\n",
       "25    Missouri     1,669,121.00          0.04\n",
       "10     Georgia     1,660,489.00          0.04\n",
       "20    Maryland     1,528,212.00          0.03\n",
       "13    Illinois     1,478,376.00          0.03"
      ]
     },
     "execution_count": 58,
     "metadata": {},
     "output_type": "execute_result"
    }
   ],
   "source": [
    "# See top 10 implied revenue by zipcode\n",
    "dfRevenuByRevenue.sort_values(by=\"Contribution\", ascending=False)[:9]"
   ]
  },
  {
   "cell_type": "markdown",
   "metadata": {},
   "source": [
    "**2. Does the demand & supply in services change from a region to another?**\n",
    "\n",
    "Outputs per regional segments & services:\n",
    "- \\# services\n",
    "- \\# hires\n",
    "- \\# hires/#services rate\n",
    "- List of sellers per region"
   ]
  },
  {
   "cell_type": "markdown",
   "metadata": {},
   "source": [
    "**3. Which segments are doing better or worse?**"
   ]
  },
  {
   "cell_type": "markdown",
   "metadata": {},
   "source": [
    "**4. Is Thumbtack offering this many services because they have a low #hires/#sellers rate?**"
   ]
  },
  {
   "cell_type": "markdown",
   "metadata": {},
   "source": [
    "**5. Are there any segments or services that showcase more uncaptured potential?**"
   ]
  },
  {
   "cell_type": "markdown",
   "metadata": {},
   "source": [
    "**6. What types of sellers are the most successful? Individuals or business? Does it depend on the type of service and/or region?**"
   ]
  }
 ],
 "metadata": {
  "interpreter": {
   "hash": "c813680251bd8d0b07ad960ec3c16e45dc93400328438a85d36d0d2a96ed0efa"
  },
  "kernelspec": {
   "display_name": "Python 3.9.5 64-bit ('selenium': venv)",
   "name": "python3"
  },
  "language_info": {
   "codemirror_mode": {
    "name": "ipython",
    "version": 3
   },
   "file_extension": ".py",
   "mimetype": "text/x-python",
   "name": "python",
   "nbconvert_exporter": "python",
   "pygments_lexer": "ipython3",
   "version": "3.9.5"
  }
 },
 "nbformat": 4,
 "nbformat_minor": 5
}